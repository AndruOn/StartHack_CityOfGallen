{
 "cells": [
  {
   "cell_type": "markdown",
   "metadata": {},
   "source": [
    "# SAINT GALLEN STARTHACK"
   ]
  },
  {
   "cell_type": "markdown",
   "metadata": {},
   "source": [
    "# Imports and Analysis"
   ]
  },
  {
   "cell_type": "code",
   "execution_count": 20,
   "metadata": {},
   "outputs": [],
   "source": [
    "import pandas as pd\n",
    "import numpy as np\n",
    "import matplotlib as plt\n",
    "from sklearn.preprocessing import LabelEncoder\n",
    "from sklearn.preprocessing import OrdinalEncoder\n",
    "from sklearn.feature_selection import chi2\n",
    "from sklearn.feature_selection import mutual_info_classif\n",
    "from sklearn.feature_selection import f_classif\n",
    "from matplotlib import pyplot\n",
    "#import seaborn as sns"
   ]
  },
  {
   "cell_type": "code",
   "execution_count": 21,
   "metadata": {},
   "outputs": [
    {
     "name": "stdout",
     "output_type": "stream",
     "text": [
      "(4711, 17)\n"
     ]
    },
    {
     "data": {
      "text/html": [
       "<div>\n",
       "<style scoped>\n",
       "    .dataframe tbody tr th:only-of-type {\n",
       "        vertical-align: middle;\n",
       "    }\n",
       "\n",
       "    .dataframe tbody tr th {\n",
       "        vertical-align: top;\n",
       "    }\n",
       "\n",
       "    .dataframe thead th {\n",
       "        text-align: right;\n",
       "    }\n",
       "</style>\n",
       "<table border=\"1\" class=\"dataframe\">\n",
       "  <thead>\n",
       "    <tr style=\"text-align: right;\">\n",
       "      <th></th>\n",
       "      <th>id</th>\n",
       "      <th>Dossier structure</th>\n",
       "      <th>Dossier type</th>\n",
       "      <th>Product of last dossier version</th>\n",
       "      <th>Personal household (support unit)</th>\n",
       "      <th>Persons in household total</th>\n",
       "      <th>Person category</th>\n",
       "      <th>Marital status</th>\n",
       "      <th>Nationality categories</th>\n",
       "      <th>In CH since birth</th>\n",
       "      <th>Age categories</th>\n",
       "      <th>Employment situation</th>\n",
       "      <th>Degree of employment</th>\n",
       "      <th>Part-time reason</th>\n",
       "      <th>Highest completed education</th>\n",
       "      <th>Trained profession category</th>\n",
       "      <th>last job category</th>\n",
       "    </tr>\n",
       "  </thead>\n",
       "  <tbody>\n",
       "    <tr>\n",
       "      <th>0</th>\n",
       "      <td>id01115</td>\n",
       "      <td>Sozialhilfe</td>\n",
       "      <td>Ausländer/innen</td>\n",
       "      <td>Sozialhilfeleistung</td>\n",
       "      <td>1</td>\n",
       "      <td>Einzelhaushalt</td>\n",
       "      <td>Alleinstehend</td>\n",
       "      <td>geschieden</td>\n",
       "      <td>EU / EFTA</td>\n",
       "      <td>False</td>\n",
       "      <td>46-55</td>\n",
       "      <td>vorübergehend arbeitsunfähig</td>\n",
       "      <td>NaN</td>\n",
       "      <td>NaN</td>\n",
       "      <td>nicht feststellbar</td>\n",
       "      <td>kein | keine</td>\n",
       "      <td>Verkaufskräfte</td>\n",
       "    </tr>\n",
       "    <tr>\n",
       "      <th>1</th>\n",
       "      <td>id03188</td>\n",
       "      <td>Sozialhilfe</td>\n",
       "      <td>Ausländer/innen</td>\n",
       "      <td>Sozialhilfeleistung</td>\n",
       "      <td>1</td>\n",
       "      <td>Einzelhaushalt</td>\n",
       "      <td>Alleinstehend</td>\n",
       "      <td>ledig</td>\n",
       "      <td>EU / EFTA</td>\n",
       "      <td>True</td>\n",
       "      <td>36-45</td>\n",
       "      <td>Dauerinvalidität</td>\n",
       "      <td>NaN</td>\n",
       "      <td>NaN</td>\n",
       "      <td>Anlehre</td>\n",
       "      <td>Berufe im Bereich personenbezogener Dienstleis...</td>\n",
       "      <td>Hilfsarbeiter in der Land- und Forstwirtschaft...</td>\n",
       "    </tr>\n",
       "    <tr>\n",
       "      <th>2</th>\n",
       "      <td>id02902</td>\n",
       "      <td>Sozialhilfe</td>\n",
       "      <td>Ausländer/innen</td>\n",
       "      <td>Sozialhilfeleistung</td>\n",
       "      <td>1</td>\n",
       "      <td>Mehrfachhaushalt (2-3)</td>\n",
       "      <td>Alleinstehend</td>\n",
       "      <td>ledig</td>\n",
       "      <td>EU / EFTA</td>\n",
       "      <td>True</td>\n",
       "      <td>36-45</td>\n",
       "      <td>vorübergehend arbeitsunfähig</td>\n",
       "      <td>NaN</td>\n",
       "      <td>NaN</td>\n",
       "      <td>Anlehre</td>\n",
       "      <td>Bau- und Ausbaufachkräfte sowie verwandte Beru...</td>\n",
       "      <td>Bau- und Ausbaufachkräfte sowie verwandte Beru...</td>\n",
       "    </tr>\n",
       "    <tr>\n",
       "      <th>3</th>\n",
       "      <td>id04640</td>\n",
       "      <td>Sozialhilfe</td>\n",
       "      <td>Ausländer/innen</td>\n",
       "      <td>Sozialhilfeleistung</td>\n",
       "      <td>1</td>\n",
       "      <td>Einzelhaushalt</td>\n",
       "      <td>Alleinstehend</td>\n",
       "      <td>geschieden</td>\n",
       "      <td>EU / EFTA</td>\n",
       "      <td>False</td>\n",
       "      <td>56-65</td>\n",
       "      <td>Arbeit auf Abruf</td>\n",
       "      <td>Eine Teilzeitstelle (bis 49%)</td>\n",
       "      <td>keine Vollzeitstelle</td>\n",
       "      <td>nicht feststellbar</td>\n",
       "      <td>kein | keine</td>\n",
       "      <td>Reinigungspersonal und Hilfskräfte</td>\n",
       "    </tr>\n",
       "    <tr>\n",
       "      <th>4</th>\n",
       "      <td>id03380</td>\n",
       "      <td>Sozialhilfe</td>\n",
       "      <td>Ausländer/innen</td>\n",
       "      <td>Sozialhilfeleistung</td>\n",
       "      <td>1</td>\n",
       "      <td>Einzelhaushalt</td>\n",
       "      <td>Alleinstehend</td>\n",
       "      <td>ledig</td>\n",
       "      <td>EU / EFTA</td>\n",
       "      <td>True</td>\n",
       "      <td>36-45</td>\n",
       "      <td>ohne Arbeit, nicht beim Arbeitsamt gemeldet</td>\n",
       "      <td>NaN</td>\n",
       "      <td>NaN</td>\n",
       "      <td>obligatorische Schule</td>\n",
       "      <td>kein | keine</td>\n",
       "      <td>Verkaufskräfte</td>\n",
       "    </tr>\n",
       "  </tbody>\n",
       "</table>\n",
       "</div>"
      ],
      "text/plain": [
       "        id Dossier structure     Dossier type Product of last dossier version  \\\n",
       "0  id01115       Sozialhilfe  Ausländer/innen             Sozialhilfeleistung   \n",
       "1  id03188       Sozialhilfe  Ausländer/innen             Sozialhilfeleistung   \n",
       "2  id02902       Sozialhilfe  Ausländer/innen             Sozialhilfeleistung   \n",
       "3  id04640       Sozialhilfe  Ausländer/innen             Sozialhilfeleistung   \n",
       "4  id03380       Sozialhilfe  Ausländer/innen             Sozialhilfeleistung   \n",
       "\n",
       "  Personal household (support unit) Persons in household total  \\\n",
       "0                                 1             Einzelhaushalt   \n",
       "1                                 1             Einzelhaushalt   \n",
       "2                                 1     Mehrfachhaushalt (2-3)   \n",
       "3                                 1             Einzelhaushalt   \n",
       "4                                 1             Einzelhaushalt   \n",
       "\n",
       "  Person category Marital status Nationality categories  In CH since birth  \\\n",
       "0   Alleinstehend     geschieden              EU / EFTA              False   \n",
       "1   Alleinstehend          ledig              EU / EFTA               True   \n",
       "2   Alleinstehend          ledig              EU / EFTA               True   \n",
       "3   Alleinstehend     geschieden              EU / EFTA              False   \n",
       "4   Alleinstehend          ledig              EU / EFTA               True   \n",
       "\n",
       "  Age categories                         Employment situation  \\\n",
       "0          46-55                 vorübergehend arbeitsunfähig   \n",
       "1          36-45                             Dauerinvalidität   \n",
       "2          36-45                 vorübergehend arbeitsunfähig   \n",
       "3          56-65                             Arbeit auf Abruf   \n",
       "4          36-45  ohne Arbeit, nicht beim Arbeitsamt gemeldet   \n",
       "\n",
       "            Degree of employment      Part-time reason  \\\n",
       "0                            NaN                   NaN   \n",
       "1                            NaN                   NaN   \n",
       "2                            NaN                   NaN   \n",
       "3  Eine Teilzeitstelle (bis 49%)  keine Vollzeitstelle   \n",
       "4                            NaN                   NaN   \n",
       "\n",
       "  Highest completed education  \\\n",
       "0          nicht feststellbar   \n",
       "1                     Anlehre   \n",
       "2                     Anlehre   \n",
       "3          nicht feststellbar   \n",
       "4       obligatorische Schule   \n",
       "\n",
       "                         Trained profession category  \\\n",
       "0                                       kein | keine   \n",
       "1  Berufe im Bereich personenbezogener Dienstleis...   \n",
       "2  Bau- und Ausbaufachkräfte sowie verwandte Beru...   \n",
       "3                                       kein | keine   \n",
       "4                                       kein | keine   \n",
       "\n",
       "                                   last job category  \n",
       "0                                     Verkaufskräfte  \n",
       "1  Hilfsarbeiter in der Land- und Forstwirtschaft...  \n",
       "2  Bau- und Ausbaufachkräfte sowie verwandte Beru...  \n",
       "3                 Reinigungspersonal und Hilfskräfte  \n",
       "4                                     Verkaufskräfte  "
      ]
     },
     "execution_count": 21,
     "metadata": {},
     "output_type": "execute_result"
    }
   ],
   "source": [
    "dataPeople = pd.read_csv('eigenschaften-sozialhilfeempfaenger-stadt-st-gallen.csv',delimiter=\";\")\n",
    "print(dataPeople.shape)\n",
    "dataPeople.head()"
   ]
  },
  {
   "cell_type": "code",
   "execution_count": 22,
   "metadata": {},
   "outputs": [
    {
     "name": "stdout",
     "output_type": "stream",
     "text": [
      "The data types are: \n"
     ]
    },
    {
     "data": {
      "text/plain": [
       "id                                   object\n",
       "Dossier structure                    object\n",
       "Dossier type                         object\n",
       "Product of last dossier version      object\n",
       "Personal household (support unit)    object\n",
       "Persons in household total           object\n",
       "Person category                      object\n",
       "Marital status                       object\n",
       "Nationality categories               object\n",
       "In CH since birth                      bool\n",
       "Age categories                       object\n",
       "Employment situation                 object\n",
       "Degree of employment                 object\n",
       "Part-time reason                     object\n",
       "Highest completed education          object\n",
       "Trained profession category          object\n",
       "last job category                    object\n",
       "dtype: object"
      ]
     },
     "execution_count": 22,
     "metadata": {},
     "output_type": "execute_result"
    }
   ],
   "source": [
    "print('The data types are: ')\n",
    "dataPeople.dtypes\n"
   ]
  },
  {
   "cell_type": "code",
   "execution_count": 23,
   "metadata": {},
   "outputs": [
    {
     "data": {
      "text/html": [
       "<div>\n",
       "<style scoped>\n",
       "    .dataframe tbody tr th:only-of-type {\n",
       "        vertical-align: middle;\n",
       "    }\n",
       "\n",
       "    .dataframe tbody tr th {\n",
       "        vertical-align: top;\n",
       "    }\n",
       "\n",
       "    .dataframe thead th {\n",
       "        text-align: right;\n",
       "    }\n",
       "</style>\n",
       "<table border=\"1\" class=\"dataframe\">\n",
       "  <thead>\n",
       "    <tr style=\"text-align: right;\">\n",
       "      <th></th>\n",
       "      <th>id</th>\n",
       "      <th>Dossier structure</th>\n",
       "      <th>Dossier type</th>\n",
       "      <th>Product of last dossier version</th>\n",
       "      <th>Personal household (support unit)</th>\n",
       "      <th>Persons in household total</th>\n",
       "      <th>Person category</th>\n",
       "      <th>Marital status</th>\n",
       "      <th>Nationality categories</th>\n",
       "      <th>Age categories</th>\n",
       "      <th>Employment situation</th>\n",
       "      <th>Degree of employment</th>\n",
       "      <th>Part-time reason</th>\n",
       "      <th>Highest completed education</th>\n",
       "      <th>Trained profession category</th>\n",
       "      <th>last job category</th>\n",
       "    </tr>\n",
       "  </thead>\n",
       "  <tbody>\n",
       "    <tr>\n",
       "      <th>count</th>\n",
       "      <td>4711</td>\n",
       "      <td>4711</td>\n",
       "      <td>4711</td>\n",
       "      <td>4711</td>\n",
       "      <td>4711</td>\n",
       "      <td>4711</td>\n",
       "      <td>4711</td>\n",
       "      <td>4709</td>\n",
       "      <td>4711</td>\n",
       "      <td>4711</td>\n",
       "      <td>4459</td>\n",
       "      <td>955</td>\n",
       "      <td>625</td>\n",
       "      <td>4556</td>\n",
       "      <td>4509</td>\n",
       "      <td>4374</td>\n",
       "    </tr>\n",
       "    <tr>\n",
       "      <th>unique</th>\n",
       "      <td>4711</td>\n",
       "      <td>1</td>\n",
       "      <td>7</td>\n",
       "      <td>2</td>\n",
       "      <td>4</td>\n",
       "      <td>3</td>\n",
       "      <td>4</td>\n",
       "      <td>4</td>\n",
       "      <td>8</td>\n",
       "      <td>5</td>\n",
       "      <td>22</td>\n",
       "      <td>6</td>\n",
       "      <td>6</td>\n",
       "      <td>8</td>\n",
       "      <td>42</td>\n",
       "      <td>45</td>\n",
       "    </tr>\n",
       "    <tr>\n",
       "      <th>top</th>\n",
       "      <td>id01115</td>\n",
       "      <td>Sozialhilfe</td>\n",
       "      <td>Inländer/innen</td>\n",
       "      <td>Sozialhilfeleistung</td>\n",
       "      <td>1</td>\n",
       "      <td>Einzelhaushalt</td>\n",
       "      <td>Alleinstehend</td>\n",
       "      <td>ledig</td>\n",
       "      <td>Schweiz</td>\n",
       "      <td>26-35</td>\n",
       "      <td>ohne Arbeit, nicht beim Arbeitsamt gemeldet</td>\n",
       "      <td>Eine Teilzeitstelle (bis 49%)</td>\n",
       "      <td>keine Vollzeitstelle</td>\n",
       "      <td>obligatorische Schule</td>\n",
       "      <td>kein | keine</td>\n",
       "      <td>kein | keine</td>\n",
       "    </tr>\n",
       "    <tr>\n",
       "      <th>freq</th>\n",
       "      <td>1</td>\n",
       "      <td>4711</td>\n",
       "      <td>2317</td>\n",
       "      <td>4443</td>\n",
       "      <td>3433</td>\n",
       "      <td>2359</td>\n",
       "      <td>3431</td>\n",
       "      <td>2470</td>\n",
       "      <td>2408</td>\n",
       "      <td>1236</td>\n",
       "      <td>1391</td>\n",
       "      <td>382</td>\n",
       "      <td>413</td>\n",
       "      <td>2208</td>\n",
       "      <td>2595</td>\n",
       "      <td>611</td>\n",
       "    </tr>\n",
       "  </tbody>\n",
       "</table>\n",
       "</div>"
      ],
      "text/plain": [
       "             id Dossier structure    Dossier type  \\\n",
       "count      4711              4711            4711   \n",
       "unique     4711                 1               7   \n",
       "top     id01115       Sozialhilfe  Inländer/innen   \n",
       "freq          1              4711            2317   \n",
       "\n",
       "       Product of last dossier version Personal household (support unit)  \\\n",
       "count                             4711                              4711   \n",
       "unique                               2                                 4   \n",
       "top                Sozialhilfeleistung                                 1   \n",
       "freq                              4443                              3433   \n",
       "\n",
       "       Persons in household total Person category Marital status  \\\n",
       "count                        4711            4711           4709   \n",
       "unique                          3               4              4   \n",
       "top                Einzelhaushalt   Alleinstehend          ledig   \n",
       "freq                         2359            3431           2470   \n",
       "\n",
       "       Nationality categories Age categories  \\\n",
       "count                    4711           4711   \n",
       "unique                      8              5   \n",
       "top                   Schweiz          26-35   \n",
       "freq                     2408           1236   \n",
       "\n",
       "                               Employment situation  \\\n",
       "count                                          4459   \n",
       "unique                                           22   \n",
       "top     ohne Arbeit, nicht beim Arbeitsamt gemeldet   \n",
       "freq                                           1391   \n",
       "\n",
       "                 Degree of employment      Part-time reason  \\\n",
       "count                             955                   625   \n",
       "unique                              6                     6   \n",
       "top     Eine Teilzeitstelle (bis 49%)  keine Vollzeitstelle   \n",
       "freq                              382                   413   \n",
       "\n",
       "       Highest completed education Trained profession category  \\\n",
       "count                         4556                        4509   \n",
       "unique                           8                          42   \n",
       "top          obligatorische Schule                kein | keine   \n",
       "freq                          2208                        2595   \n",
       "\n",
       "       last job category  \n",
       "count               4374  \n",
       "unique                45  \n",
       "top         kein | keine  \n",
       "freq                 611  "
      ]
     },
     "execution_count": 23,
     "metadata": {},
     "output_type": "execute_result"
    }
   ],
   "source": [
    "dataPeople.describe(include=['object'])"
   ]
  },
  {
   "cell_type": "code",
   "execution_count": 24,
   "metadata": {},
   "outputs": [
    {
     "name": "stdout",
     "output_type": "stream",
     "text": [
      "id  diff values : 4711  first: id01115\n",
      "Dossier structure  diff values : 1  first: Sozialhilfe\n",
      "Dossier type  diff values : 7  first: Ausländer/innen\n",
      "Product of last dossier version  diff values : 2  first: Sozialhilfeleistung\n",
      "Personal household (support unit)  diff values : 4  first: 1\n",
      "Persons in household total  diff values : 3  first: Einzelhaushalt\n",
      "Person category  diff values : 4  first: Alleinstehend\n",
      "Marital status  diff values : 5  first: geschieden\n",
      "Nationality categories  diff values : 8  first: EU / EFTA\n",
      "In CH since birth  diff values : 2  first: False\n",
      "Age categories  diff values : 5  first: 46-55\n",
      "Employment situation  diff values : 23  first: vorübergehend arbeitsunfähig\n",
      "Degree of employment  diff values : 7  first: nan\n",
      "Part-time reason  diff values : 7  first: nan\n",
      "Highest completed education  diff values : 9  first: nicht feststellbar\n",
      "Trained profession category  diff values : 43  first: kein | keine\n",
      "last job category  diff values : 46  first: Verkaufskräfte\n"
     ]
    }
   ],
   "source": [
    "for feature in dataPeople.columns:\n",
    "    print(feature,' diff values :',len(dataPeople[feature].unique()),' first:',dataPeople[feature][0])\n"
   ]
  },
  {
   "cell_type": "code",
   "execution_count": 25,
   "metadata": {},
   "outputs": [],
   "source": [
    "#feature Dossier structure has only one value so we delete it\n",
    "del dataPeople['Dossier structure']"
   ]
  },
  {
   "cell_type": "code",
   "execution_count": 26,
   "metadata": {},
   "outputs": [
    {
     "name": "stdout",
     "output_type": "stream",
     "text": [
      "Sozialhilfeleistung    0.943112\n",
      "Rückerstattung         0.056888\n",
      "Name: Product of last dossier version, dtype: float64\n"
     ]
    }
   ],
   "source": [
    "probs = dataPeople['Product of last dossier version'].value_counts(normalize=True)\n",
    "print(probs)"
   ]
  },
  {
   "cell_type": "code",
   "execution_count": 27,
   "metadata": {},
   "outputs": [
    {
     "data": {
      "text/html": [
       "<div>\n",
       "<style scoped>\n",
       "    .dataframe tbody tr th:only-of-type {\n",
       "        vertical-align: middle;\n",
       "    }\n",
       "\n",
       "    .dataframe tbody tr th {\n",
       "        vertical-align: top;\n",
       "    }\n",
       "\n",
       "    .dataframe thead th {\n",
       "        text-align: right;\n",
       "    }\n",
       "</style>\n",
       "<table border=\"1\" class=\"dataframe\">\n",
       "  <thead>\n",
       "    <tr style=\"text-align: right;\">\n",
       "      <th></th>\n",
       "      <th>ID</th>\n",
       "      <th>Dossier von</th>\n",
       "      <th>Dossier bis</th>\n",
       "      <th>Produkt</th>\n",
       "    </tr>\n",
       "  </thead>\n",
       "  <tbody>\n",
       "    <tr>\n",
       "      <th>0</th>\n",
       "      <td>id02270</td>\n",
       "      <td>2021-08</td>\n",
       "      <td>2021-12</td>\n",
       "      <td>Sozialhilfeleistung</td>\n",
       "    </tr>\n",
       "    <tr>\n",
       "      <th>1</th>\n",
       "      <td>id03410</td>\n",
       "      <td>2019-08</td>\n",
       "      <td>2021-01</td>\n",
       "      <td>Sozialhilfeleistung</td>\n",
       "    </tr>\n",
       "    <tr>\n",
       "      <th>2</th>\n",
       "      <td>id01383</td>\n",
       "      <td>2019-02</td>\n",
       "      <td>2019-05</td>\n",
       "      <td>Sozialhilfeleistung</td>\n",
       "    </tr>\n",
       "    <tr>\n",
       "      <th>3</th>\n",
       "      <td>id02268</td>\n",
       "      <td>2019-07</td>\n",
       "      <td>2021-12</td>\n",
       "      <td>Sozialhilfeleistung</td>\n",
       "    </tr>\n",
       "    <tr>\n",
       "      <th>4</th>\n",
       "      <td>id04133</td>\n",
       "      <td>2019-07</td>\n",
       "      <td>2020-02</td>\n",
       "      <td>Sozialhilfeleistung</td>\n",
       "    </tr>\n",
       "  </tbody>\n",
       "</table>\n",
       "</div>"
      ],
      "text/plain": [
       "        ID Dossier von Dossier bis              Produkt\n",
       "0  id02270     2021-08     2021-12  Sozialhilfeleistung\n",
       "1  id03410     2019-08     2021-01  Sozialhilfeleistung\n",
       "2  id01383     2019-02     2019-05  Sozialhilfeleistung\n",
       "3  id02268     2019-07     2021-12  Sozialhilfeleistung\n",
       "4  id04133     2019-07     2020-02  Sozialhilfeleistung"
      ]
     },
     "execution_count": 27,
     "metadata": {},
     "output_type": "execute_result"
    }
   ],
   "source": [
    "dataDossier = pd.read_csv('verlaufe-sozialhilfe-ruckerstattungen-stadt-stgallen.csv',delimiter=\";\")\n",
    "dataDossier.head()"
   ]
  },
  {
   "cell_type": "markdown",
   "metadata": {},
   "source": [
    "# Create Target Value"
   ]
  },
  {
   "cell_type": "code",
   "execution_count": 28,
   "metadata": {},
   "outputs": [
    {
     "name": "stdout",
     "output_type": "stream",
     "text": [
      "id00001 status: 3966    Finish Reimbursing\n",
      "Name: target, dtype: object\n",
      "id00002 status: 502    Help pending\n",
      "Name: target, dtype: object\n",
      "id00003 status: 2930    Finish help\n",
      "Name: target, dtype: object\n",
      "id00004 status: 357    Finish help\n",
      "Name: target, dtype: object\n",
      "id00005 status: 2647    Help pending\n",
      "Name: target, dtype: object\n"
     ]
    }
   ],
   "source": [
    "pendingDocuments = dataDossier['ID'][dataDossier['Dossier bis'].isna()].sort_values()\n",
    "\n",
    "dataPeople.loc[(dataPeople['Product of last dossier version'] == 'Rückerstattung') & (dataPeople['id'].isin(pendingDocuments)) , 'target'] = 'Rembursing'\n",
    "dataPeople.loc[(dataPeople['Product of last dossier version'] == 'Rückerstattung') & ~(dataPeople['id'].isin(pendingDocuments)) , 'target'] = 'Finish Reimbursing'\n",
    "dataPeople.loc[(dataPeople['Product of last dossier version'] == 'Sozialhilfeleistung') & (dataPeople['id'].isin(pendingDocuments)) , 'target'] = 'Help pending'\n",
    "dataPeople.loc[(dataPeople['Product of last dossier version'] == 'Sozialhilfeleistung') & ~(dataPeople['id'].isin(pendingDocuments)) , 'target'] = 'Finish help'\n",
    "\n",
    "#test should have \n",
    "#   Finish Reimbursing\n",
    "#   Help pending\n",
    "#   Finish help\n",
    "#   Finish help\n",
    "#   Help pending\n",
    "print(\"id00001 status:\",dataPeople.loc[dataPeople['id'] == 'id00001']['target'])\n",
    "print(\"id00002 status:\",dataPeople.loc[dataPeople['id'] == 'id00002']['target'])\n",
    "print(\"id00003 status:\",dataPeople.loc[dataPeople['id'] == 'id00003']['target'])\n",
    "print(\"id00004 status:\",dataPeople.loc[dataPeople['id'] == 'id00004']['target'])\n",
    "print(\"id00005 status:\",dataPeople.loc[dataPeople['id'] == 'id00005']['target'])\n"
   ]
  },
  {
   "cell_type": "code",
   "execution_count": 29,
   "metadata": {},
   "outputs": [
    {
     "name": "stdout",
     "output_type": "stream",
     "text": [
      "Finish help           2983\n",
      "Help pending          1460\n",
      "Finish Reimbursing     162\n",
      "Rembursing             106\n",
      "Name: target, dtype: int64\n"
     ]
    }
   ],
   "source": [
    "probs = dataPeople['target'].value_counts()\n",
    "print(probs)"
   ]
  },
  {
   "cell_type": "markdown",
   "metadata": {},
   "source": [
    "# Feature Selection"
   ]
  },
  {
   "cell_type": "markdown",
   "metadata": {},
   "source": [
    "\n",
    "## Prepare data for feature selection\n"
   ]
  },
  {
   "cell_type": "code",
   "execution_count": 30,
   "metadata": {},
   "outputs": [
    {
     "name": "stdout",
     "output_type": "stream",
     "text": [
      "dropColumns: ['target', 'id', 'Product of last dossier version'] \n",
      "\n",
      "keptColumns ['Person category', 'Nationality categories', 'Age categories', 'last job category', 'Dossier type', 'In CH since birth', 'Marital status', 'Employment situation', 'Degree of employment', 'Personal household (support unit)', 'Persons in household total', 'Trained profession category', 'Highest completed education', 'Part-time reason'] \n",
      "\n",
      "X columns: Index(['Dossier type', 'Personal household (support unit)',\n",
      "       'Persons in household total', 'Person category', 'Marital status',\n",
      "       'Nationality categories', 'In CH since birth', 'Age categories',\n",
      "       'Employment situation', 'Degree of employment', 'Part-time reason',\n",
      "       'Highest completed education', 'Trained profession category',\n",
      "       'last job category'],\n",
      "      dtype='object') \n",
      "\n"
     ]
    }
   ],
   "source": [
    "# prepare input data\n",
    "def prepare_inputs(X):\n",
    "    oe = OrdinalEncoder()\n",
    "    oe.fit(X)\n",
    "    X_enc = oe.transform(X)\n",
    "    return X_enc\n",
    "\n",
    "# prepare target\n",
    "def prepare_targets(y):\n",
    "    le = LabelEncoder()\n",
    "    le.fit(y)\n",
    "    y_enc = le.transform(y)\n",
    "    return y_enc\n",
    " \n",
    "#prepare data\n",
    "Allcolumns = ['target','id','Dossier type','Product of last dossier version','Personal household (support unit)','Persons in household total','Person category','Marital status','Nationality categories','In CH since birth','Age categories','Employment situation','Degree of employment','Part-time reason','Highest completed education','Trained profession category','last job category']\n",
    "dropColumns = ['target','id','Product of last dossier version']\n",
    "keptColumns = list(set(Allcolumns)-set(dropColumns))\n",
    "print('dropColumns:',dropColumns,\"\\n\")\n",
    "print('keptColumns',keptColumns,\"\\n\")\n",
    "\n",
    "#Replace NaN with string NAN\n",
    "dataNaN = dataPeople.copy()\n",
    "for f in dataNaN.columns:\n",
    "    dataNaN[f].fillna(value='NAN', inplace=True)\n",
    "\n",
    "X = dataNaN.drop(columns=dropColumns) #remove id bc not a categorical value was used to create the target\n",
    "y = dataPeople['target']\n",
    "\n",
    "\n",
    "print(\"X columns:\",X.columns,\"\\n\")\n",
    "\n",
    "    "
   ]
  },
  {
   "cell_type": "code",
   "execution_count": 31,
   "metadata": {},
   "outputs": [
    {
     "name": "stdout",
     "output_type": "stream",
     "text": [
      "X_enc: [[ 0.  0.  0.  0.  1.  2.  0.  3. 20.  3.  2.  7. 42. 44.]\n",
      " [ 0.  0.  0.  0.  2.  2.  1.  2.  6.  3.  2.  0.  5. 24.]\n",
      " [ 0.  0.  1.  0.  2.  2.  1.  2. 20.  3.  2.  0.  3.  4.]\n",
      " [ 0.  0.  0.  0.  1.  2.  0.  4.  2.  1.  6.  7. 42. 38.]\n",
      " [ 0.  0.  0.  0.  2.  2.  1.  2. 19.  3.  2.  8. 42. 44.]]\n",
      "y_enc: [1 1 2 2 1]\n"
     ]
    }
   ],
   "source": [
    "# prepare input data\n",
    "X_enc = prepare_inputs(X)\n",
    "# prepare output data\n",
    "y_enc = prepare_targets(y)\n",
    "\n",
    "print('X_enc:',X_enc[:5])\n",
    "print('y_enc:',y_enc[:5])"
   ]
  },
  {
   "cell_type": "markdown",
   "metadata": {},
   "source": [
    "## Chi test feature selection"
   ]
  },
  {
   "cell_type": "code",
   "execution_count": 32,
   "metadata": {},
   "outputs": [
    {
     "name": "stdout",
     "output_type": "stream",
     "text": [
      "orderedScores: [4.13057999e-26 3.75096565e-24 1.47947305e-11 5.77104672e-10\n",
      " 3.72064211e-09 1.81188491e-08 3.00819727e-06 4.00652855e-05\n",
      " 3.33062774e-04 8.37837410e-02 1.14227409e-01 1.40010695e-01\n",
      " 3.01259021e-01 3.19255612e-01]\n",
      "orderedFeatures: ['Trained profession category' 'Employment situation'\n",
      " 'Nationality categories' 'Person category' 'In CH since birth'\n",
      " 'Personal household (support unit)' 'Highest completed education'\n",
      " 'Dossier type' 'Age categories' 'Degree of employment'\n",
      " 'last job category' 'Persons in household total' 'Marital status'\n",
      " 'Part-time reason']\n"
     ]
    }
   ],
   "source": [
    "fs_chi = chi2(X_enc,y_enc)[1]\n",
    "order_chi = np.argsort(fs_chi)\n",
    "orderedScores_chi = fs_chi[np.array(order_chi)]\n",
    "print('orderedScores:',orderedScores_chi)\n",
    "orderedFeatures_chi = np.array(X.columns)[np.array(order_chi)]\n",
    "print('orderedFeatures:',orderedFeatures_chi)"
   ]
  },
  {
   "cell_type": "code",
   "execution_count": 33,
   "metadata": {},
   "outputs": [
    {
     "name": "stdout",
     "output_type": "stream",
     "text": [
      "Feature [Trained profession category] 0: 0.000000\n",
      "Feature [Employment situation] 1: 0.000000\n",
      "Feature [Nationality categories] 2: 0.000000\n",
      "Feature [Person category] 3: 0.000000\n",
      "Feature [In CH since birth] 4: 0.000000\n",
      "Feature [Personal household (support unit)] 5: 0.000000\n",
      "Feature [Highest completed education] 6: 0.000003\n",
      "Feature [Dossier type] 7: 0.000040\n",
      "Feature [Age categories] 8: 0.000333\n",
      "Feature [Degree of employment] 9: 0.083784\n",
      "Feature [last job category] 10: 0.114227\n",
      "Feature [Persons in household total] 11: 0.140011\n",
      "Feature [Marital status] 12: 0.301259\n",
      "Feature [Part-time reason] 13: 0.319256\n"
     ]
    },
    {
     "data": {
      "image/png": "[encoded data removed]",
      "text/plain": [
       "<Figure size 504x360 with 1 Axes>"
      ]
     },
     "metadata": {
      "needs_background": "light"
     },
     "output_type": "display_data"
    }
   ],
   "source": [
    "# what are scores for the features\n",
    "for i in range(len(orderedScores_chi)):\n",
    "\tprint('Feature [%s] %d: %f' % (orderedFeatures_chi[i],i, orderedScores_chi[i]))\n",
    "# plot the scores\n",
    "pyplot.figure(figsize=(7,5))\n",
    "pyplot.xticks(np.arange(len(orderedScores_chi)),orderedFeatures_chi,rotation='vertical')\n",
    "pyplot.bar(orderedFeatures_chi,orderedScores_chi,color=\"#DC5C5C\")\n",
    "pyplot.plot(orderedFeatures_chi,[.05 for i in orderedFeatures_chi],color='#00C0FF', linestyle='dashed')\n",
    "pyplot.show()"
   ]
  },
  {
   "cell_type": "markdown",
   "metadata": {},
   "source": [
    "## ANOVA test"
   ]
  },
  {
   "cell_type": "code",
   "execution_count": 34,
   "metadata": {},
   "outputs": [
    {
     "name": "stdout",
     "output_type": "stream",
     "text": [
      "Feature [In CH since birth] 0: 0.000000\n",
      "Feature [Nationality categories] 1: 0.000000\n",
      "Feature [Employment situation] 2: 0.000000\n",
      "Feature [Age categories] 3: 0.000011\n",
      "Feature [Personal household (support unit)] 4: 0.000044\n",
      "Feature [Person category] 5: 0.000044\n",
      "Feature [Degree of employment] 6: 0.000139\n",
      "Feature [Dossier type] 7: 0.000174\n",
      "Feature [Trained profession category] 8: 0.001266\n",
      "Feature [Marital status] 9: 0.001989\n",
      "Feature [Highest completed education] 10: 0.004072\n",
      "Feature [Persons in household total] 11: 0.077260\n",
      "Feature [Part-time reason] 12: 0.129101\n",
      "Feature [last job category] 13: 0.891527\n"
     ]
    },
    {
     "data": {
      "image/png": "[encoded data removed]",
      "text/plain": [
       "<Figure size 504x360 with 1 Axes>"
      ]
     },
     "metadata": {
      "needs_background": "light"
     },
     "output_type": "display_data"
    }
   ],
   "source": [
    "# feature selection\n",
    "\n",
    "fs_AN = f_classif(X_enc,y_enc)[1]\n",
    "\n",
    "order_AN = np.argsort(fs_AN)\n",
    "orderedScores_AN = fs_AN[np.array(order_AN)]\n",
    "orderedFeatures_AN = np.array(X.columns)[np.array(order_AN)]\n",
    "\n",
    "# what are scores for the features\n",
    "for i in range(len(orderedScores_AN)):\n",
    "\tprint('Feature [%s] %d: %f' % (orderedFeatures_AN[i],i, orderedScores_AN[i]))\n",
    "# plot the scores\n",
    "pyplot.figure(figsize=(7,5))\n",
    "pyplot.xticks(np.arange(len(orderedScores_AN)),orderedFeatures_AN,rotation='vertical')\n",
    "pyplot.bar(orderedFeatures_AN,orderedScores_AN,color=\"#DC5C5C\")\n",
    "pyplot.plot(orderedFeatures_AN,[.05 for i in orderedFeatures_AN],color='#00C0FF', linestyle='dashed')\n",
    "pyplot.show()"
   ]
  },
  {
   "cell_type": "markdown",
   "metadata": {},
   "source": [
    "## Mutual Information"
   ]
  },
  {
   "cell_type": "code",
   "execution_count": 35,
   "metadata": {},
   "outputs": [
    {
     "name": "stdout",
     "output_type": "stream",
     "text": [
      "Feature [Employment situation] 0: 0.037387\n",
      "Feature [Person category] 1: 0.021067\n",
      "Feature [Highest completed education] 2: 0.018678\n",
      "Feature [Dossier type] 3: 0.013229\n",
      "Feature [Degree of employment] 4: 0.011449\n",
      "Feature [Trained profession category] 5: 0.011410\n",
      "Feature [In CH since birth] 6: 0.007382\n",
      "Feature [Personal household (support unit)] 7: 0.005850\n",
      "Feature [last job category] 8: 0.005198\n",
      "Feature [Persons in household total] 9: 0.003516\n",
      "Feature [Age categories] 10: 0.002135\n",
      "Feature [Part-time reason] 11: 0.001981\n",
      "Feature [Nationality categories] 12: 0.000000\n",
      "Feature [Marital status] 13: 0.000000\n"
     ]
    },
    {
     "data": {
      "image/png": "[encoded data removed]",
      "text/plain": [
       "<Figure size 504x360 with 1 Axes>"
      ]
     },
     "metadata": {
      "needs_background": "light"
     },
     "output_type": "display_data"
    }
   ],
   "source": [
    "# feature selection\n",
    "\n",
    "fs_MI = mutual_info_classif(X_enc,y_enc,n_neighbors=3)\n",
    "\n",
    "order_MI = np.argsort(fs_MI)[::-1]\n",
    "orderedScores_MI = fs_MI[np.array(order_MI)]\n",
    "orderedFeatures_MI = np.array(X.columns)[np.array(order_MI)]\n",
    "\n",
    "# what are scores for the features\n",
    "for i in range(len(orderedScores_MI)):\n",
    "\tprint('Feature [%s] %d: %f' % (orderedFeatures_MI[i],i, orderedScores_MI[i]))\n",
    "# plot the scores\n",
    "pyplot.figure(figsize=(7,5))\n",
    "pyplot.xticks(np.arange(len(orderedScores_MI)),orderedFeatures_MI,rotation='vertical')\n",
    "pyplot.bar(orderedFeatures_MI,orderedScores_MI,color=\"#DC5C5C\")\n",
    "pyplot.show()"
   ]
  },
  {
   "cell_type": "markdown",
   "metadata": {},
   "source": [
    "## Remove unsignificant features"
   ]
  },
  {
   "cell_type": "code",
   "execution_count": 36,
   "metadata": {},
   "outputs": [
    {
     "name": "stdout",
     "output_type": "stream",
     "text": [
      "Features to drop (selective) : ['Persons in household total' 'Part-time reason' 'last job category']\n",
      "Features to drop (restrictive) : ['Persons in household total' 'Marital status' 'Degree of employment'\n",
      " 'Part-time reason' 'last job category']\n"
     ]
    }
   ],
   "source": [
    "dropSelective = np.squeeze(np.array(X.columns)[np.intersect1d(np.argwhere(fs_AN>.05),np.argwhere(fs_chi>.05))])\n",
    "dropRestrictive =  np.squeeze(np.array(X.columns)[np.unique(np.concatenate((np.squeeze(np.argwhere(fs_AN>.05)),np.squeeze(np.argwhere(fs_chi>.05)))))])\n",
    "print(\"Features to drop (selective) :\",dropSelective)\n",
    "print(\"Features to drop (restrictive) :\",dropRestrictive)\n",
    "\n",
    "Xsel = X.drop(columns=dropSelective)\n",
    "Xres = X.drop(columns=dropRestrictive)"
   ]
  },
  {
   "cell_type": "markdown",
   "metadata": {},
   "source": [
    "# Different profiles "
   ]
  },
  {
   "cell_type": "markdown",
   "metadata": {},
   "source": [
    "## Kmodes: Clustering to find the differents profiles\n",
    "\n",
    "We don't remove the unimportant features here. Because they still help to group similar people even if don't help to predict target."
   ]
  },
  {
   "cell_type": "code",
   "execution_count": 37,
   "metadata": {},
   "outputs": [],
   "source": [
    "from kmodes.kmodes import KModes\n",
    "\n",
    "\n",
    "def saveClusterToCsv(nbClusters):\n",
    "    # random categorical data\n",
    "    subsetColumns = dataNaN.drop(columns={'target','id','Product of last dossier version'},axis=1)\n",
    "    dataXnan = subsetColumns.values\n",
    "\n",
    "    km = KModes(n_clusters=nbClusters, init='Huang', n_init=5, verbose=0)\n",
    "\n",
    "    fitclusters = km.fit_predict(dataXnan)\n",
    "\n",
    "    clusterCentroid = pd.DataFrame(km.cluster_centroids_)\n",
    "    clusterCentroid.columns = subsetColumns.columns\n",
    "    clusterCentroid['In CH since birth'] = clusterCentroid['In CH since birth'].astype(bool)\n",
    "    \n",
    "    clusterCentroid.to_csv(\"deutchClusters/clusterCentroid\"+str(nbClusters)+\".csv\") \n",
    "\n",
    "    return clusterCentroid\n",
    "\n"
   ]
  },
  {
   "cell_type": "code",
   "execution_count": 38,
   "metadata": {},
   "outputs": [],
   "source": [
    "clustersCentroids3 = saveClusterToCsv(3)"
   ]
  },
  {
   "cell_type": "code",
   "execution_count": 39,
   "metadata": {},
   "outputs": [],
   "source": [
    "clustersCentroids5 = saveClusterToCsv(5)"
   ]
  },
  {
   "cell_type": "code",
   "execution_count": 40,
   "metadata": {},
   "outputs": [],
   "source": [
    "clustersCentroids7 = saveClusterToCsv(7)"
   ]
  },
  {
   "cell_type": "code",
   "execution_count": 41,
   "metadata": {},
   "outputs": [],
   "source": [
    "clustersCentroids10 = saveClusterToCsv(10)"
   ]
  },
  {
   "cell_type": "markdown",
   "metadata": {},
   "source": [
    "## Predict for each profile"
   ]
  },
  {
   "cell_type": "code",
   "execution_count": 42,
   "metadata": {},
   "outputs": [
    {
     "name": "stdout",
     "output_type": "stream",
     "text": [
      "Finish help           0.633199\n",
      "Help pending          0.309913\n",
      "Finish Reimbursing    0.034388\n",
      "Rembursing            0.022501\n",
      "Name: target, dtype: float64 \n",
      "\n"
     ]
    }
   ],
   "source": [
    "from sklearn.ensemble import RandomForestClassifier\n",
    "from sklearn.ensemble import GradientBoostingClassifier\n",
    "from sklearn.model_selection import train_test_split\n",
    "from sklearn.metrics import accuracy_score\n",
    "\n",
    "\n",
    "def trainRandomForestClasssifier(enc_data, enc_target):\n",
    "    balances = pd.DataFrame(enc_target).value_counts(normalize=True).to_dict()\n",
    "    clf = GradientBoostingClassifier()\n",
    "    return clf.fit(enc_data, enc_target)\n",
    "\n",
    "#Tried to correct the skewness of 93% but only a small improvement\n",
    "\"\"\"\n",
    "def undersample(enc_data,enc_target):\n",
    "    smpls_per_cls = 50*min(pd.DataFrame(enc_target).value_counts())\n",
    "    order = np.argsort(enc_target)\n",
    "    splits = np.split(enc_data[order], np.squeeze(np.where(np.diff(enc_target[order])))+1)\n",
    "    results = []\n",
    "    for slice in splits:\n",
    "        results.append(slice[np.random.randint(0,high=slice.shape[0],size=smpls_per_cls)])\n",
    "    und_data = np.squeeze(results).reshape((len(splits)*smpls_per_cls,enc_data.shape[1]))\n",
    "    und_target = np.repeat([0,1,2,3],smpls_per_cls)\n",
    "    order = np.arange(und_data.shape[0])\n",
    "    np.random.shuffle(order)\n",
    "    return und_data[order], und_target[order]\n",
    "    \"\"\"\n",
    "\n",
    "    \n",
    "# prepare input data\n",
    "def prepare_inputs(X):\n",
    "\toe = OrdinalEncoder()\n",
    "\toe.fit(X)\n",
    "\tX_enc = oe.transform(X)\n",
    "\treturn X_enc,oe\n",
    "\n",
    "# prepare target\n",
    "def prepare_targets(y):\n",
    "\tle = LabelEncoder()\n",
    "\tle.fit(y)\n",
    "\ty_enc = le.transform(y)\n",
    "\treturn y_enc,le\n",
    "\n",
    "#big function with everything\n",
    "def trainAndPredict(X,y,XtoPredict,columnsToDrop):\n",
    "    X_dropped = X.drop(columns=columnsToDrop).drop(columns={'target','id','Product of last dossier version'})\n",
    "\n",
    "    X_enc, oe = prepare_inputs(X_dropped)\n",
    "    y_encoded, le = prepare_targets(y)\n",
    "    X_train, X_test, y_train, y_test = train_test_split(X_enc, y_encoded, test_size=0.33, random_state=42)\n",
    "    rndForestClass = trainRandomForestClasssifier(X_train,y_train)\n",
    "    \n",
    "    XtoPredict_drop = XtoPredict.drop(columns=columnsToDrop)\n",
    "    XtoPredict_enc = oe.transform(XtoPredict_drop)\n",
    "    yPredicted_enc = rndForestClass.predict(XtoPredict_enc)\n",
    "    XtoPredict['predictedTarget'] = le.inverse_transform(yPredicted_enc)\n",
    "\n",
    "    accuracy,freqClasses = accuraryOfModel(rndForestClass,X_test,y_test)\n",
    "\n",
    "    return XtoPredict,accuracy,freqClasses\n",
    "\n",
    "def accuraryOfModel(classifier,x_test,y_true):\n",
    "    y_pred = classifier.predict(x_test)\n",
    "    freqClass = np.zeros(4)\n",
    "    for i in (np.unique(y_pred)):\n",
    "        freqClass[i] = np.sum(np.ones(len(y_pred))[np.where(y_pred==i)]) / len(y_pred)\n",
    "    \n",
    "    return accuracy_score(y_true, y_pred), freqClass\n",
    "\n",
    "print(dataPeople['target'].value_counts(normalize=True),\"\\n\")"
   ]
  },
  {
   "cell_type": "code",
   "execution_count": 43,
   "metadata": {},
   "outputs": [
    {
     "name": "stdout",
     "output_type": "stream",
     "text": [
      "Selective features 0.6501607717041801 \n",
      "classes freq: [0.0096463  0.88874598 0.09839228 0.00321543] \n",
      "\n",
      "Restrictive features 0.6469453376205788 \n",
      "classes freq: [0.00707395 0.88488746 0.10610932 0.00192926] \n",
      "\n",
      "Restrictive features 0.6430868167202572 \n",
      "classes freq: [0.0096463  0.88102894 0.10610932 0.00321543] \n",
      "\n"
     ]
    }
   ],
   "source": [
    "Sel_XtoPredict,Sel_accuracy,Sel_freqClasses = trainAndPredict(dataNaN,dataPeople['target'],clustersCentroids3.copy(),dropSelective)\n",
    "print(\"Selective features\",Sel_accuracy,\"\\nclasses freq:\",Sel_freqClasses,\"\\n\")\n",
    "\n",
    "Res_XtoPredict,Res_accuracy,Res_freqClasses = trainAndPredict(dataNaN,dataPeople['target'],clustersCentroids3.copy(),dropRestrictive)\n",
    "print(\"Restrictive features\",Res_accuracy,\"\\nclasses freq:\",Res_freqClasses,\"\\n\")\n",
    "\n",
    "All_XtoPredict,All_accuracy,All_freqClasses = trainAndPredict(dataNaN,dataPeople['target'],clustersCentroids3.copy(),[])\n",
    "print(\"Restrictive features\",All_accuracy,\"\\nclasses freq:\",All_freqClasses,\"\\n\")"
   ]
  }
 ],
 "metadata": {
  "interpreter": {
   "hash": "31f2aee4e71d21fbe5cf8b01ff0e069b9275f58929596ceb00d14d90e3e16cd6"
  },
  "kernelspec": {
   "display_name": "Python 3",
   "language": "python",
   "name": "python3"
  },
  "language_info": {
   "codemirror_mode": {
    "name": "ipython",
    "version": 3
   },
   "file_extension": ".py",
   "mimetype": "text/x-python",
   "name": "python",
   "nbconvert_exporter": "python",
   "pygments_lexer": "ipython3",
   "version": "3.8.10"
  }
 },
 "nbformat": 4,
 "nbformat_minor": 2
}
