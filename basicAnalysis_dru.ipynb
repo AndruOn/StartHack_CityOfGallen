{
 "cells": [
  {
   "cell_type": "markdown",
   "metadata": {},
   "source": [
    "# SAINT-GALLEN STARTHACK "
   ]
  },
  {
   "cell_type": "markdown",
   "metadata": {},
   "source": [
    "# Imports and Analysis"
   ]
  },
  {
   "cell_type": "code",
   "execution_count": 480,
   "metadata": {},
   "outputs": [],
   "source": [
    "import pandas as pd, numpy as np\n",
    "import matplotlib as plt\n",
    "import sklearn.feature_selection \n",
    "from sklearn.model_selection import train_test_split\n",
    "from sklearn.preprocessing import LabelEncoder\n",
    "from sklearn.preprocessing import OrdinalEncoder\n",
    "from sklearn.feature_selection import SelectKBest\n",
    "from sklearn.feature_selection import chi2\n",
    "from sklearn.feature_selection import mutual_info_classif\n",
    "from sklearn.feature_selection import f_classif\n",
    "from matplotlib import pyplot\n",
    "#import seaborn as sns\n",
    "%matplotlib inline"
   ]
  },
  {
   "cell_type": "code",
   "execution_count": 481,
   "metadata": {},
   "outputs": [
    {
     "name": "stdout",
     "output_type": "stream",
     "text": [
      "(4711, 17)\n"
     ]
    },
    {
     "data": {
      "text/html": [
       "<div>\n",
       "<style scoped>\n",
       "    .dataframe tbody tr th:only-of-type {\n",
       "        vertical-align: middle;\n",
       "    }\n",
       "\n",
       "    .dataframe tbody tr th {\n",
       "        vertical-align: top;\n",
       "    }\n",
       "\n",
       "    .dataframe thead th {\n",
       "        text-align: right;\n",
       "    }\n",
       "</style>\n",
       "<table border=\"1\" class=\"dataframe\">\n",
       "  <thead>\n",
       "    <tr style=\"text-align: right;\">\n",
       "      <th></th>\n",
       "      <th>id</th>\n",
       "      <th>Dossier structure</th>\n",
       "      <th>Dossier type</th>\n",
       "      <th>Product of last dossier version</th>\n",
       "      <th>Personal household (support unit)</th>\n",
       "      <th>Persons in household total</th>\n",
       "      <th>Person category</th>\n",
       "      <th>Marital status</th>\n",
       "      <th>Nationality categories</th>\n",
       "      <th>In CH since birth</th>\n",
       "      <th>Age categories</th>\n",
       "      <th>Employment situation</th>\n",
       "      <th>Degree of employment</th>\n",
       "      <th>Part-time reason</th>\n",
       "      <th>Highest completed education</th>\n",
       "      <th>Trained profession category</th>\n",
       "      <th>last job category</th>\n",
       "    </tr>\n",
       "  </thead>\n",
       "  <tbody>\n",
       "    <tr>\n",
       "      <th>0</th>\n",
       "      <td>id01115</td>\n",
       "      <td>Sozialhilfe</td>\n",
       "      <td>Ausländer/innen</td>\n",
       "      <td>Sozialhilfeleistung</td>\n",
       "      <td>1</td>\n",
       "      <td>Einzelhaushalt</td>\n",
       "      <td>Alleinstehend</td>\n",
       "      <td>geschieden</td>\n",
       "      <td>EU / EFTA</td>\n",
       "      <td>False</td>\n",
       "      <td>46-55</td>\n",
       "      <td>vorübergehend arbeitsunfähig</td>\n",
       "      <td>NaN</td>\n",
       "      <td>NaN</td>\n",
       "      <td>nicht feststellbar</td>\n",
       "      <td>kein | keine</td>\n",
       "      <td>Verkaufskräfte</td>\n",
       "    </tr>\n",
       "    <tr>\n",
       "      <th>1</th>\n",
       "      <td>id03188</td>\n",
       "      <td>Sozialhilfe</td>\n",
       "      <td>Ausländer/innen</td>\n",
       "      <td>Sozialhilfeleistung</td>\n",
       "      <td>1</td>\n",
       "      <td>Einzelhaushalt</td>\n",
       "      <td>Alleinstehend</td>\n",
       "      <td>ledig</td>\n",
       "      <td>EU / EFTA</td>\n",
       "      <td>True</td>\n",
       "      <td>36-45</td>\n",
       "      <td>Dauerinvalidität</td>\n",
       "      <td>NaN</td>\n",
       "      <td>NaN</td>\n",
       "      <td>Anlehre</td>\n",
       "      <td>Berufe im Bereich personenbezogener Dienstleis...</td>\n",
       "      <td>Hilfsarbeiter in der Land- und Forstwirtschaft...</td>\n",
       "    </tr>\n",
       "    <tr>\n",
       "      <th>2</th>\n",
       "      <td>id02902</td>\n",
       "      <td>Sozialhilfe</td>\n",
       "      <td>Ausländer/innen</td>\n",
       "      <td>Sozialhilfeleistung</td>\n",
       "      <td>1</td>\n",
       "      <td>Mehrfachhaushalt (2-3)</td>\n",
       "      <td>Alleinstehend</td>\n",
       "      <td>ledig</td>\n",
       "      <td>EU / EFTA</td>\n",
       "      <td>True</td>\n",
       "      <td>36-45</td>\n",
       "      <td>vorübergehend arbeitsunfähig</td>\n",
       "      <td>NaN</td>\n",
       "      <td>NaN</td>\n",
       "      <td>Anlehre</td>\n",
       "      <td>Bau- und Ausbaufachkräfte sowie verwandte Beru...</td>\n",
       "      <td>Bau- und Ausbaufachkräfte sowie verwandte Beru...</td>\n",
       "    </tr>\n",
       "    <tr>\n",
       "      <th>3</th>\n",
       "      <td>id04640</td>\n",
       "      <td>Sozialhilfe</td>\n",
       "      <td>Ausländer/innen</td>\n",
       "      <td>Sozialhilfeleistung</td>\n",
       "      <td>1</td>\n",
       "      <td>Einzelhaushalt</td>\n",
       "      <td>Alleinstehend</td>\n",
       "      <td>geschieden</td>\n",
       "      <td>EU / EFTA</td>\n",
       "      <td>False</td>\n",
       "      <td>56-65</td>\n",
       "      <td>Arbeit auf Abruf</td>\n",
       "      <td>Eine Teilzeitstelle (bis 49%)</td>\n",
       "      <td>keine Vollzeitstelle</td>\n",
       "      <td>nicht feststellbar</td>\n",
       "      <td>kein | keine</td>\n",
       "      <td>Reinigungspersonal und Hilfskräfte</td>\n",
       "    </tr>\n",
       "    <tr>\n",
       "      <th>4</th>\n",
       "      <td>id03380</td>\n",
       "      <td>Sozialhilfe</td>\n",
       "      <td>Ausländer/innen</td>\n",
       "      <td>Sozialhilfeleistung</td>\n",
       "      <td>1</td>\n",
       "      <td>Einzelhaushalt</td>\n",
       "      <td>Alleinstehend</td>\n",
       "      <td>ledig</td>\n",
       "      <td>EU / EFTA</td>\n",
       "      <td>True</td>\n",
       "      <td>36-45</td>\n",
       "      <td>ohne Arbeit, nicht beim Arbeitsamt gemeldet</td>\n",
       "      <td>NaN</td>\n",
       "      <td>NaN</td>\n",
       "      <td>obligatorische Schule</td>\n",
       "      <td>kein | keine</td>\n",
       "      <td>Verkaufskräfte</td>\n",
       "    </tr>\n",
       "  </tbody>\n",
       "</table>\n",
       "</div>"
      ],
      "text/plain": [
       "        id Dossier structure     Dossier type Product of last dossier version  \\\n",
       "0  id01115       Sozialhilfe  Ausländer/innen             Sozialhilfeleistung   \n",
       "1  id03188       Sozialhilfe  Ausländer/innen             Sozialhilfeleistung   \n",
       "2  id02902       Sozialhilfe  Ausländer/innen             Sozialhilfeleistung   \n",
       "3  id04640       Sozialhilfe  Ausländer/innen             Sozialhilfeleistung   \n",
       "4  id03380       Sozialhilfe  Ausländer/innen             Sozialhilfeleistung   \n",
       "\n",
       "  Personal household (support unit) Persons in household total  \\\n",
       "0                                 1             Einzelhaushalt   \n",
       "1                                 1             Einzelhaushalt   \n",
       "2                                 1     Mehrfachhaushalt (2-3)   \n",
       "3                                 1             Einzelhaushalt   \n",
       "4                                 1             Einzelhaushalt   \n",
       "\n",
       "  Person category Marital status Nationality categories  In CH since birth  \\\n",
       "0   Alleinstehend     geschieden              EU / EFTA              False   \n",
       "1   Alleinstehend          ledig              EU / EFTA               True   \n",
       "2   Alleinstehend          ledig              EU / EFTA               True   \n",
       "3   Alleinstehend     geschieden              EU / EFTA              False   \n",
       "4   Alleinstehend          ledig              EU / EFTA               True   \n",
       "\n",
       "  Age categories                         Employment situation  \\\n",
       "0          46-55                 vorübergehend arbeitsunfähig   \n",
       "1          36-45                             Dauerinvalidität   \n",
       "2          36-45                 vorübergehend arbeitsunfähig   \n",
       "3          56-65                             Arbeit auf Abruf   \n",
       "4          36-45  ohne Arbeit, nicht beim Arbeitsamt gemeldet   \n",
       "\n",
       "            Degree of employment      Part-time reason  \\\n",
       "0                            NaN                   NaN   \n",
       "1                            NaN                   NaN   \n",
       "2                            NaN                   NaN   \n",
       "3  Eine Teilzeitstelle (bis 49%)  keine Vollzeitstelle   \n",
       "4                            NaN                   NaN   \n",
       "\n",
       "  Highest completed education  \\\n",
       "0          nicht feststellbar   \n",
       "1                     Anlehre   \n",
       "2                     Anlehre   \n",
       "3          nicht feststellbar   \n",
       "4       obligatorische Schule   \n",
       "\n",
       "                         Trained profession category  \\\n",
       "0                                       kein | keine   \n",
       "1  Berufe im Bereich personenbezogener Dienstleis...   \n",
       "2  Bau- und Ausbaufachkräfte sowie verwandte Beru...   \n",
       "3                                       kein | keine   \n",
       "4                                       kein | keine   \n",
       "\n",
       "                                   last job category  \n",
       "0                                     Verkaufskräfte  \n",
       "1  Hilfsarbeiter in der Land- und Forstwirtschaft...  \n",
       "2  Bau- und Ausbaufachkräfte sowie verwandte Beru...  \n",
       "3                 Reinigungspersonal und Hilfskräfte  \n",
       "4                                     Verkaufskräfte  "
      ]
     },
     "execution_count": 481,
     "metadata": {},
     "output_type": "execute_result"
    }
   ],
   "source": [
    "dataPeople = pd.read_csv('eigenschaften-sozialhilfeempfaenger-stadt-st-gallen.csv',delimiter=\";\")\n",
    "print(dataPeople.shape)\n",
    "dataPeople.head()"
   ]
  },
  {
   "cell_type": "code",
   "execution_count": 482,
   "metadata": {},
   "outputs": [
    {
     "name": "stdout",
     "output_type": "stream",
     "text": [
      "The data types are: \n"
     ]
    },
    {
     "data": {
      "text/plain": [
       "id                                   object\n",
       "Dossier structure                    object\n",
       "Dossier type                         object\n",
       "Product of last dossier version      object\n",
       "Personal household (support unit)    object\n",
       "Persons in household total           object\n",
       "Person category                      object\n",
       "Marital status                       object\n",
       "Nationality categories               object\n",
       "In CH since birth                      bool\n",
       "Age categories                       object\n",
       "Employment situation                 object\n",
       "Degree of employment                 object\n",
       "Part-time reason                     object\n",
       "Highest completed education          object\n",
       "Trained profession category          object\n",
       "last job category                    object\n",
       "dtype: object"
      ]
     },
     "execution_count": 482,
     "metadata": {},
     "output_type": "execute_result"
    }
   ],
   "source": [
    "print('The data types are: ')\n",
    "dataPeople.dtypes\n"
   ]
  },
  {
   "cell_type": "code",
   "execution_count": 483,
   "metadata": {},
   "outputs": [
    {
     "data": {
      "text/html": [
       "<div>\n",
       "<style scoped>\n",
       "    .dataframe tbody tr th:only-of-type {\n",
       "        vertical-align: middle;\n",
       "    }\n",
       "\n",
       "    .dataframe tbody tr th {\n",
       "        vertical-align: top;\n",
       "    }\n",
       "\n",
       "    .dataframe thead th {\n",
       "        text-align: right;\n",
       "    }\n",
       "</style>\n",
       "<table border=\"1\" class=\"dataframe\">\n",
       "  <thead>\n",
       "    <tr style=\"text-align: right;\">\n",
       "      <th></th>\n",
       "      <th>id</th>\n",
       "      <th>Dossier structure</th>\n",
       "      <th>Dossier type</th>\n",
       "      <th>Product of last dossier version</th>\n",
       "      <th>Personal household (support unit)</th>\n",
       "      <th>Persons in household total</th>\n",
       "      <th>Person category</th>\n",
       "      <th>Marital status</th>\n",
       "      <th>Nationality categories</th>\n",
       "      <th>Age categories</th>\n",
       "      <th>Employment situation</th>\n",
       "      <th>Degree of employment</th>\n",
       "      <th>Part-time reason</th>\n",
       "      <th>Highest completed education</th>\n",
       "      <th>Trained profession category</th>\n",
       "      <th>last job category</th>\n",
       "    </tr>\n",
       "  </thead>\n",
       "  <tbody>\n",
       "    <tr>\n",
       "      <th>count</th>\n",
       "      <td>4711</td>\n",
       "      <td>4711</td>\n",
       "      <td>4711</td>\n",
       "      <td>4711</td>\n",
       "      <td>4711</td>\n",
       "      <td>4711</td>\n",
       "      <td>4711</td>\n",
       "      <td>4709</td>\n",
       "      <td>4711</td>\n",
       "      <td>4711</td>\n",
       "      <td>4459</td>\n",
       "      <td>955</td>\n",
       "      <td>625</td>\n",
       "      <td>4556</td>\n",
       "      <td>4509</td>\n",
       "      <td>4374</td>\n",
       "    </tr>\n",
       "    <tr>\n",
       "      <th>unique</th>\n",
       "      <td>4711</td>\n",
       "      <td>1</td>\n",
       "      <td>7</td>\n",
       "      <td>2</td>\n",
       "      <td>4</td>\n",
       "      <td>3</td>\n",
       "      <td>4</td>\n",
       "      <td>4</td>\n",
       "      <td>8</td>\n",
       "      <td>5</td>\n",
       "      <td>22</td>\n",
       "      <td>6</td>\n",
       "      <td>6</td>\n",
       "      <td>8</td>\n",
       "      <td>42</td>\n",
       "      <td>45</td>\n",
       "    </tr>\n",
       "    <tr>\n",
       "      <th>top</th>\n",
       "      <td>id01115</td>\n",
       "      <td>Sozialhilfe</td>\n",
       "      <td>Inländer/innen</td>\n",
       "      <td>Sozialhilfeleistung</td>\n",
       "      <td>1</td>\n",
       "      <td>Einzelhaushalt</td>\n",
       "      <td>Alleinstehend</td>\n",
       "      <td>ledig</td>\n",
       "      <td>Schweiz</td>\n",
       "      <td>26-35</td>\n",
       "      <td>ohne Arbeit, nicht beim Arbeitsamt gemeldet</td>\n",
       "      <td>Eine Teilzeitstelle (bis 49%)</td>\n",
       "      <td>keine Vollzeitstelle</td>\n",
       "      <td>obligatorische Schule</td>\n",
       "      <td>kein | keine</td>\n",
       "      <td>kein | keine</td>\n",
       "    </tr>\n",
       "    <tr>\n",
       "      <th>freq</th>\n",
       "      <td>1</td>\n",
       "      <td>4711</td>\n",
       "      <td>2317</td>\n",
       "      <td>4443</td>\n",
       "      <td>3433</td>\n",
       "      <td>2359</td>\n",
       "      <td>3431</td>\n",
       "      <td>2470</td>\n",
       "      <td>2408</td>\n",
       "      <td>1236</td>\n",
       "      <td>1391</td>\n",
       "      <td>382</td>\n",
       "      <td>413</td>\n",
       "      <td>2208</td>\n",
       "      <td>2595</td>\n",
       "      <td>611</td>\n",
       "    </tr>\n",
       "  </tbody>\n",
       "</table>\n",
       "</div>"
      ],
      "text/plain": [
       "             id Dossier structure    Dossier type  \\\n",
       "count      4711              4711            4711   \n",
       "unique     4711                 1               7   \n",
       "top     id01115       Sozialhilfe  Inländer/innen   \n",
       "freq          1              4711            2317   \n",
       "\n",
       "       Product of last dossier version Personal household (support unit)  \\\n",
       "count                             4711                              4711   \n",
       "unique                               2                                 4   \n",
       "top                Sozialhilfeleistung                                 1   \n",
       "freq                              4443                              3433   \n",
       "\n",
       "       Persons in household total Person category Marital status  \\\n",
       "count                        4711            4711           4709   \n",
       "unique                          3               4              4   \n",
       "top                Einzelhaushalt   Alleinstehend          ledig   \n",
       "freq                         2359            3431           2470   \n",
       "\n",
       "       Nationality categories Age categories  \\\n",
       "count                    4711           4711   \n",
       "unique                      8              5   \n",
       "top                   Schweiz          26-35   \n",
       "freq                     2408           1236   \n",
       "\n",
       "                               Employment situation  \\\n",
       "count                                          4459   \n",
       "unique                                           22   \n",
       "top     ohne Arbeit, nicht beim Arbeitsamt gemeldet   \n",
       "freq                                           1391   \n",
       "\n",
       "                 Degree of employment      Part-time reason  \\\n",
       "count                             955                   625   \n",
       "unique                              6                     6   \n",
       "top     Eine Teilzeitstelle (bis 49%)  keine Vollzeitstelle   \n",
       "freq                              382                   413   \n",
       "\n",
       "       Highest completed education Trained profession category  \\\n",
       "count                         4556                        4509   \n",
       "unique                           8                          42   \n",
       "top          obligatorische Schule                kein | keine   \n",
       "freq                          2208                        2595   \n",
       "\n",
       "       last job category  \n",
       "count               4374  \n",
       "unique                45  \n",
       "top         kein | keine  \n",
       "freq                 611  "
      ]
     },
     "execution_count": 483,
     "metadata": {},
     "output_type": "execute_result"
    }
   ],
   "source": [
    "dataPeople.describe(include=['object'])"
   ]
  },
  {
   "cell_type": "code",
   "execution_count": 484,
   "metadata": {},
   "outputs": [],
   "source": [
    "#target = data['Product of last dossier version']\n",
    "#del data['Product of last dossier version']\n",
    "#data['target'] = target"
   ]
  },
  {
   "cell_type": "code",
   "execution_count": 485,
   "metadata": {},
   "outputs": [
    {
     "name": "stdout",
     "output_type": "stream",
     "text": [
      "id  diff values : 4711  first: id01115\n",
      "Dossier structure  diff values : 1  first: Sozialhilfe\n",
      "Dossier type  diff values : 7  first: Ausländer/innen\n",
      "Product of last dossier version  diff values : 2  first: Sozialhilfeleistung\n",
      "Personal household (support unit)  diff values : 4  first: 1\n",
      "Persons in household total  diff values : 3  first: Einzelhaushalt\n",
      "Person category  diff values : 4  first: Alleinstehend\n",
      "Marital status  diff values : 5  first: geschieden\n",
      "Nationality categories  diff values : 8  first: EU / EFTA\n",
      "In CH since birth  diff values : 2  first: False\n",
      "Age categories  diff values : 5  first: 46-55\n",
      "Employment situation  diff values : 23  first: vorübergehend arbeitsunfähig\n",
      "Degree of employment  diff values : 7  first: nan\n",
      "Part-time reason  diff values : 7  first: nan\n",
      "Highest completed education  diff values : 9  first: nicht feststellbar\n",
      "Trained profession category  diff values : 43  first: kein | keine\n",
      "last job category  diff values : 46  first: Verkaufskräfte\n"
     ]
    }
   ],
   "source": [
    "for feature in dataPeople.columns:\n",
    "    print(feature,' diff values :',len(dataPeople[feature].unique()),' first:',dataPeople[feature][0])\n",
    "\n",
    "#feature Dossier structure has only one value so we delete it"
   ]
  },
  {
   "cell_type": "code",
   "execution_count": 486,
   "metadata": {},
   "outputs": [],
   "source": [
    "del dataPeople['Dossier structure']"
   ]
  },
  {
   "cell_type": "code",
   "execution_count": 487,
   "metadata": {},
   "outputs": [
    {
     "name": "stdout",
     "output_type": "stream",
     "text": [
      "Sozialhilfeleistung    0.943112\n",
      "Rückerstattung         0.056888\n",
      "Name: Product of last dossier version, dtype: float64\n"
     ]
    }
   ],
   "source": [
    "probs = dataPeople['Product of last dossier version'].value_counts(normalize=True)\n",
    "print(probs)"
   ]
  },
  {
   "cell_type": "code",
   "execution_count": 488,
   "metadata": {},
   "outputs": [
    {
     "data": {
      "text/html": [
       "<div>\n",
       "<style scoped>\n",
       "    .dataframe tbody tr th:only-of-type {\n",
       "        vertical-align: middle;\n",
       "    }\n",
       "\n",
       "    .dataframe tbody tr th {\n",
       "        vertical-align: top;\n",
       "    }\n",
       "\n",
       "    .dataframe thead th {\n",
       "        text-align: right;\n",
       "    }\n",
       "</style>\n",
       "<table border=\"1\" class=\"dataframe\">\n",
       "  <thead>\n",
       "    <tr style=\"text-align: right;\">\n",
       "      <th></th>\n",
       "      <th>ID</th>\n",
       "      <th>Dossier von</th>\n",
       "      <th>Dossier bis</th>\n",
       "      <th>Produkt</th>\n",
       "    </tr>\n",
       "  </thead>\n",
       "  <tbody>\n",
       "    <tr>\n",
       "      <th>0</th>\n",
       "      <td>id02270</td>\n",
       "      <td>2021-08</td>\n",
       "      <td>2021-12</td>\n",
       "      <td>Sozialhilfeleistung</td>\n",
       "    </tr>\n",
       "    <tr>\n",
       "      <th>1</th>\n",
       "      <td>id03410</td>\n",
       "      <td>2019-08</td>\n",
       "      <td>2021-01</td>\n",
       "      <td>Sozialhilfeleistung</td>\n",
       "    </tr>\n",
       "    <tr>\n",
       "      <th>2</th>\n",
       "      <td>id01383</td>\n",
       "      <td>2019-02</td>\n",
       "      <td>2019-05</td>\n",
       "      <td>Sozialhilfeleistung</td>\n",
       "    </tr>\n",
       "    <tr>\n",
       "      <th>3</th>\n",
       "      <td>id02268</td>\n",
       "      <td>2019-07</td>\n",
       "      <td>2021-12</td>\n",
       "      <td>Sozialhilfeleistung</td>\n",
       "    </tr>\n",
       "    <tr>\n",
       "      <th>4</th>\n",
       "      <td>id04133</td>\n",
       "      <td>2019-07</td>\n",
       "      <td>2020-02</td>\n",
       "      <td>Sozialhilfeleistung</td>\n",
       "    </tr>\n",
       "  </tbody>\n",
       "</table>\n",
       "</div>"
      ],
      "text/plain": [
       "        ID Dossier von Dossier bis              Produkt\n",
       "0  id02270     2021-08     2021-12  Sozialhilfeleistung\n",
       "1  id03410     2019-08     2021-01  Sozialhilfeleistung\n",
       "2  id01383     2019-02     2019-05  Sozialhilfeleistung\n",
       "3  id02268     2019-07     2021-12  Sozialhilfeleistung\n",
       "4  id04133     2019-07     2020-02  Sozialhilfeleistung"
      ]
     },
     "execution_count": 488,
     "metadata": {},
     "output_type": "execute_result"
    }
   ],
   "source": [
    "dataDossier = pd.read_csv('verlaufe-sozialhilfe-ruckerstattungen-stadt-stgallen.csv',delimiter=\";\")\n",
    "dataDossier.head()"
   ]
  },
  {
   "cell_type": "markdown",
   "metadata": {},
   "source": [
    "# Create Target Value"
   ]
  },
  {
   "cell_type": "code",
   "execution_count": 501,
   "metadata": {},
   "outputs": [
    {
     "name": "stdout",
     "output_type": "stream",
     "text": [
      "id00001 status: 3966    Finish Reimbursing\n",
      "Name: target, dtype: object\n",
      "id00002 status: 502    Help pending\n",
      "Name: target, dtype: object\n",
      "id00003 status: 2930    Finish help\n",
      "Name: target, dtype: object\n",
      "id00004 status: 357    Finish help\n",
      "Name: target, dtype: object\n",
      "id00005 status: 2647    Help pending\n",
      "Name: target, dtype: object\n"
     ]
    }
   ],
   "source": [
    "pendingDocuments = dataDossier['ID'][dataDossier['Dossier bis'].isna()].sort_values()\n",
    "\n",
    "dataPeople.loc[(dataPeople['Product of last dossier version'] == 'Rückerstattung') & (dataPeople['id'].isin(pendingDocuments)) , 'target'] = 'Rembursing'\n",
    "dataPeople.loc[(dataPeople['Product of last dossier version'] == 'Rückerstattung') & ~(dataPeople['id'].isin(pendingDocuments)) , 'target'] = 'Finish Reimbursing'\n",
    "dataPeople.loc[(dataPeople['Product of last dossier version'] == 'Sozialhilfeleistung') & (dataPeople['id'].isin(pendingDocuments)) , 'target'] = 'Help pending'\n",
    "dataPeople.loc[(dataPeople['Product of last dossier version'] == 'Sozialhilfeleistung') & ~(dataPeople['id'].isin(pendingDocuments)) , 'target'] = 'Finish help'\n",
    "\n",
    "#test should have R P F F P\n",
    "print(\"id00001 status:\",dataPeople.loc[dataPeople['id'] == 'id00001']['target'])\n",
    "print(\"id00002 status:\",dataPeople.loc[dataPeople['id'] == 'id00002']['target'])\n",
    "print(\"id00003 status:\",dataPeople.loc[dataPeople['id'] == 'id00003']['target'])\n",
    "print(\"id00004 status:\",dataPeople.loc[dataPeople['id'] == 'id00004']['target'])\n",
    "print(\"id00005 status:\",dataPeople.loc[dataPeople['id'] == 'id00005']['target'])"
   ]
  },
  {
   "cell_type": "code",
   "execution_count": 490,
   "metadata": {},
   "outputs": [
    {
     "name": "stdout",
     "output_type": "stream",
     "text": [
      "Finish help           2983\n",
      "Help pending          1460\n",
      "Finish Reimbursing     162\n",
      "Rembursing             106\n",
      "Name: target, dtype: int64\n"
     ]
    }
   ],
   "source": [
    "probs = dataPeople['target'].value_counts()\n",
    "print(probs)\n",
    "\n",
    "\n",
    "#TODO separer F en plus que 1an qu'ils ont pas remboursé et ceux qui vienne de remboursé"
   ]
  },
  {
   "cell_type": "markdown",
   "metadata": {},
   "source": [
    "# Feature Selection"
   ]
  },
  {
   "cell_type": "markdown",
   "metadata": {},
   "source": [
    "\n",
    "## Prepare data for feature selection\n",
    "\n",
    "https://machinelearningmastery.com/feature-selection-with-categorical-data/"
   ]
  },
  {
   "cell_type": "code",
   "execution_count": 491,
   "metadata": {},
   "outputs": [
    {
     "data": {
      "text/html": [
       "<div>\n",
       "<style scoped>\n",
       "    .dataframe tbody tr th:only-of-type {\n",
       "        vertical-align: middle;\n",
       "    }\n",
       "\n",
       "    .dataframe tbody tr th {\n",
       "        vertical-align: top;\n",
       "    }\n",
       "\n",
       "    .dataframe thead th {\n",
       "        text-align: right;\n",
       "    }\n",
       "</style>\n",
       "<table border=\"1\" class=\"dataframe\">\n",
       "  <thead>\n",
       "    <tr style=\"text-align: right;\">\n",
       "      <th></th>\n",
       "      <th>id</th>\n",
       "      <th>Dossier type</th>\n",
       "      <th>Product of last dossier version</th>\n",
       "      <th>Personal household (support unit)</th>\n",
       "      <th>Persons in household total</th>\n",
       "      <th>Person category</th>\n",
       "      <th>Marital status</th>\n",
       "      <th>Nationality categories</th>\n",
       "      <th>In CH since birth</th>\n",
       "      <th>Age categories</th>\n",
       "      <th>Employment situation</th>\n",
       "      <th>Degree of employment</th>\n",
       "      <th>Part-time reason</th>\n",
       "      <th>Highest completed education</th>\n",
       "      <th>Trained profession category</th>\n",
       "      <th>last job category</th>\n",
       "      <th>target</th>\n",
       "    </tr>\n",
       "  </thead>\n",
       "  <tbody>\n",
       "    <tr>\n",
       "      <th>0</th>\n",
       "      <td>id01115</td>\n",
       "      <td>Ausländer/innen</td>\n",
       "      <td>Sozialhilfeleistung</td>\n",
       "      <td>1</td>\n",
       "      <td>Einzelhaushalt</td>\n",
       "      <td>Alleinstehend</td>\n",
       "      <td>geschieden</td>\n",
       "      <td>EU / EFTA</td>\n",
       "      <td>False</td>\n",
       "      <td>46-55</td>\n",
       "      <td>vorübergehend arbeitsunfähig</td>\n",
       "      <td>NaN</td>\n",
       "      <td>NaN</td>\n",
       "      <td>nicht feststellbar</td>\n",
       "      <td>kein | keine</td>\n",
       "      <td>Verkaufskräfte</td>\n",
       "      <td>Finish help</td>\n",
       "    </tr>\n",
       "    <tr>\n",
       "      <th>1</th>\n",
       "      <td>id03188</td>\n",
       "      <td>Ausländer/innen</td>\n",
       "      <td>Sozialhilfeleistung</td>\n",
       "      <td>1</td>\n",
       "      <td>Einzelhaushalt</td>\n",
       "      <td>Alleinstehend</td>\n",
       "      <td>ledig</td>\n",
       "      <td>EU / EFTA</td>\n",
       "      <td>True</td>\n",
       "      <td>36-45</td>\n",
       "      <td>Dauerinvalidität</td>\n",
       "      <td>NaN</td>\n",
       "      <td>NaN</td>\n",
       "      <td>Anlehre</td>\n",
       "      <td>Berufe im Bereich personenbezogener Dienstleis...</td>\n",
       "      <td>Hilfsarbeiter in der Land- und Forstwirtschaft...</td>\n",
       "      <td>Finish help</td>\n",
       "    </tr>\n",
       "    <tr>\n",
       "      <th>2</th>\n",
       "      <td>id02902</td>\n",
       "      <td>Ausländer/innen</td>\n",
       "      <td>Sozialhilfeleistung</td>\n",
       "      <td>1</td>\n",
       "      <td>Mehrfachhaushalt (2-3)</td>\n",
       "      <td>Alleinstehend</td>\n",
       "      <td>ledig</td>\n",
       "      <td>EU / EFTA</td>\n",
       "      <td>True</td>\n",
       "      <td>36-45</td>\n",
       "      <td>vorübergehend arbeitsunfähig</td>\n",
       "      <td>NaN</td>\n",
       "      <td>NaN</td>\n",
       "      <td>Anlehre</td>\n",
       "      <td>Bau- und Ausbaufachkräfte sowie verwandte Beru...</td>\n",
       "      <td>Bau- und Ausbaufachkräfte sowie verwandte Beru...</td>\n",
       "      <td>Help pending</td>\n",
       "    </tr>\n",
       "    <tr>\n",
       "      <th>3</th>\n",
       "      <td>id04640</td>\n",
       "      <td>Ausländer/innen</td>\n",
       "      <td>Sozialhilfeleistung</td>\n",
       "      <td>1</td>\n",
       "      <td>Einzelhaushalt</td>\n",
       "      <td>Alleinstehend</td>\n",
       "      <td>geschieden</td>\n",
       "      <td>EU / EFTA</td>\n",
       "      <td>False</td>\n",
       "      <td>56-65</td>\n",
       "      <td>Arbeit auf Abruf</td>\n",
       "      <td>Eine Teilzeitstelle (bis 49%)</td>\n",
       "      <td>keine Vollzeitstelle</td>\n",
       "      <td>nicht feststellbar</td>\n",
       "      <td>kein | keine</td>\n",
       "      <td>Reinigungspersonal und Hilfskräfte</td>\n",
       "      <td>Help pending</td>\n",
       "    </tr>\n",
       "    <tr>\n",
       "      <th>4</th>\n",
       "      <td>id03380</td>\n",
       "      <td>Ausländer/innen</td>\n",
       "      <td>Sozialhilfeleistung</td>\n",
       "      <td>1</td>\n",
       "      <td>Einzelhaushalt</td>\n",
       "      <td>Alleinstehend</td>\n",
       "      <td>ledig</td>\n",
       "      <td>EU / EFTA</td>\n",
       "      <td>True</td>\n",
       "      <td>36-45</td>\n",
       "      <td>ohne Arbeit, nicht beim Arbeitsamt gemeldet</td>\n",
       "      <td>NaN</td>\n",
       "      <td>NaN</td>\n",
       "      <td>obligatorische Schule</td>\n",
       "      <td>kein | keine</td>\n",
       "      <td>Verkaufskräfte</td>\n",
       "      <td>Finish help</td>\n",
       "    </tr>\n",
       "  </tbody>\n",
       "</table>\n",
       "</div>"
      ],
      "text/plain": [
       "        id     Dossier type Product of last dossier version  \\\n",
       "0  id01115  Ausländer/innen             Sozialhilfeleistung   \n",
       "1  id03188  Ausländer/innen             Sozialhilfeleistung   \n",
       "2  id02902  Ausländer/innen             Sozialhilfeleistung   \n",
       "3  id04640  Ausländer/innen             Sozialhilfeleistung   \n",
       "4  id03380  Ausländer/innen             Sozialhilfeleistung   \n",
       "\n",
       "  Personal household (support unit) Persons in household total  \\\n",
       "0                                 1             Einzelhaushalt   \n",
       "1                                 1             Einzelhaushalt   \n",
       "2                                 1     Mehrfachhaushalt (2-3)   \n",
       "3                                 1             Einzelhaushalt   \n",
       "4                                 1             Einzelhaushalt   \n",
       "\n",
       "  Person category Marital status Nationality categories  In CH since birth  \\\n",
       "0   Alleinstehend     geschieden              EU / EFTA              False   \n",
       "1   Alleinstehend          ledig              EU / EFTA               True   \n",
       "2   Alleinstehend          ledig              EU / EFTA               True   \n",
       "3   Alleinstehend     geschieden              EU / EFTA              False   \n",
       "4   Alleinstehend          ledig              EU / EFTA               True   \n",
       "\n",
       "  Age categories                         Employment situation  \\\n",
       "0          46-55                 vorübergehend arbeitsunfähig   \n",
       "1          36-45                             Dauerinvalidität   \n",
       "2          36-45                 vorübergehend arbeitsunfähig   \n",
       "3          56-65                             Arbeit auf Abruf   \n",
       "4          36-45  ohne Arbeit, nicht beim Arbeitsamt gemeldet   \n",
       "\n",
       "            Degree of employment      Part-time reason  \\\n",
       "0                            NaN                   NaN   \n",
       "1                            NaN                   NaN   \n",
       "2                            NaN                   NaN   \n",
       "3  Eine Teilzeitstelle (bis 49%)  keine Vollzeitstelle   \n",
       "4                            NaN                   NaN   \n",
       "\n",
       "  Highest completed education  \\\n",
       "0          nicht feststellbar   \n",
       "1                     Anlehre   \n",
       "2                     Anlehre   \n",
       "3          nicht feststellbar   \n",
       "4       obligatorische Schule   \n",
       "\n",
       "                         Trained profession category  \\\n",
       "0                                       kein | keine   \n",
       "1  Berufe im Bereich personenbezogener Dienstleis...   \n",
       "2  Bau- und Ausbaufachkräfte sowie verwandte Beru...   \n",
       "3                                       kein | keine   \n",
       "4                                       kein | keine   \n",
       "\n",
       "                                   last job category        target  \n",
       "0                                     Verkaufskräfte   Finish help  \n",
       "1  Hilfsarbeiter in der Land- und Forstwirtschaft...   Finish help  \n",
       "2  Bau- und Ausbaufachkräfte sowie verwandte Beru...  Help pending  \n",
       "3                 Reinigungspersonal und Hilfskräfte  Help pending  \n",
       "4                                     Verkaufskräfte   Finish help  "
      ]
     },
     "execution_count": 491,
     "metadata": {},
     "output_type": "execute_result"
    }
   ],
   "source": [
    "dataPeople.head()"
   ]
  },
  {
   "cell_type": "code",
   "execution_count": 492,
   "metadata": {},
   "outputs": [
    {
     "name": "stdout",
     "output_type": "stream",
     "text": [
      "dropColumns: ['target', 'id', 'Product of last dossier version']\n",
      "keptColumns ['In CH since birth', 'Trained profession category', 'Marital status', 'Employment situation', 'Person category', 'Degree of employment', 'last job category', 'Part-time reason', 'Persons in household total', 'Personal household (support unit)', 'Nationality categories', 'Highest completed education', 'Age categories', 'Dossier type']\n",
      "dataNaN:         id     Dossier type Product of last dossier version  \\\n",
      "0  id01115  Ausländer/innen             Sozialhilfeleistung   \n",
      "\n",
      "  Personal household (support unit) Persons in household total  \\\n",
      "0                                 1             Einzelhaushalt   \n",
      "\n",
      "  Person category Marital status Nationality categories  In CH since birth  \\\n",
      "0   Alleinstehend     geschieden              EU / EFTA              False   \n",
      "\n",
      "  Age categories          Employment situation Degree of employment  \\\n",
      "0          46-55  vorübergehend arbeitsunfähig                  NAN   \n",
      "\n",
      "  Part-time reason Highest completed education Trained profession category  \\\n",
      "0              NAN          nicht feststellbar                kein | keine   \n",
      "\n",
      "  last job category       target  \n",
      "0    Verkaufskräfte  Finish help  \n",
      "Index(['Dossier type', 'Personal household (support unit)',\n",
      "       'Persons in household total', 'Person category', 'Marital status',\n",
      "       'Nationality categories', 'In CH since birth', 'Age categories',\n",
      "       'Employment situation', 'Degree of employment', 'Part-time reason',\n",
      "       'Highest completed education', 'Trained profession category',\n",
      "       'last job category'],\n",
      "      dtype='object')\n"
     ]
    }
   ],
   "source": [
    "# prepare input data\n",
    "def prepare_inputs(X_train, X_test):\n",
    "\toe = OrdinalEncoder()\n",
    "\toe.fit(X_train)\n",
    "\tX_train_enc = oe.transform(X_train)\n",
    "\tX_test_enc = oe.transform(X_test)\n",
    "\treturn X_train_enc, X_test_enc\n",
    "\n",
    "# prepare target\n",
    "def prepare_targets(y_train, y_test):\n",
    "\tle = LabelEncoder()\n",
    "\tle.fit(y_train)\n",
    "\ty_train_enc = le.transform(y_train)\n",
    "\ty_test_enc = le.transform(y_test)\n",
    "\treturn y_train_enc, y_test_enc\n",
    " \n",
    "#prepare data\n",
    "Allcolumns = ['target','id','Dossier type','Product of last dossier version','Personal household (support unit)','Persons in household total','Person category','Marital status','Nationality categories','In CH since birth','Age categories','Employment situation','Degree of employment','Part-time reason','Highest completed education','Trained profession category','last job category']\n",
    "dropColumns = ['target','id','Product of last dossier version']\n",
    "keptColumns = list(set(Allcolumns)-set(dropColumns))\n",
    "print('dropColumns:',dropColumns)\n",
    "print('keptColumns',keptColumns)\n",
    "#print(dataPeople.columns)\n",
    "\n",
    "#Replace NaN with string NAN\n",
    "dataNaN = dataPeople.copy()\n",
    "for f in dataNaN.columns:\n",
    "    dataNaN[f].fillna(value='NAN', inplace=True)\n",
    "\n",
    "print('dataNaN:',dataNaN[:1])\n",
    "\n",
    "X = dataNaN.drop(columns=dropColumns) #remove id bc not a categorical value was used to create the target\n",
    "y = dataPeople['target']\n",
    "#print('X:',X[:1])\n",
    "#print('y:',y[:1])\n",
    "print(X.columns)\n",
    "\n",
    "    "
   ]
  },
  {
   "cell_type": "code",
   "execution_count": 493,
   "metadata": {},
   "outputs": [
    {
     "name": "stdout",
     "output_type": "stream",
     "text": [
      "X_train_enc: [[ 0.  3.  2.  1.  3.  1.  0.  4.  2.  0.  6.  7. 42. 38.]\n",
      " [ 4.  2.  1.  1.  3.  5.  1.  1.  1.  4.  2.  5. 17.  0.]\n",
      " [ 0.  0.  0.  0.  1.  2.  0.  3. 18.  3.  2.  8. 42.  4.]\n",
      " [ 0.  0.  0.  0.  2.  2.  1.  0. 16.  3.  2.  8. 42. 41.]\n",
      " [ 0.  0.  1.  0.  2.  2.  0.  2. 19.  3.  2.  1.  2.  3.]]\n",
      "X_test_enc: [[ 0.  0.  0.  0.  1.  2.  0.  4. 20.  3.  2.  8.  7.  8.]\n",
      " [ 2.  0.  0.  0.  1.  5.  0.  4.  6.  3.  2.  8. 33. 44.]\n",
      " [ 1.  0.  1.  0.  2.  0.  0.  0.  2.  0.  6.  8. 42.  0.]\n",
      " [ 0.  2.  1.  1.  3.  1.  0.  2. 19.  3.  2.  7. 42. 26.]\n",
      " [ 2.  0.  0.  0.  3.  5.  0.  2.  9.  3.  2.  3. 33. 35.]]\n",
      "y_train_enc: [3 3 1 1 1]\n",
      "y_test_enc: [1 1 1 0 1]\n"
     ]
    }
   ],
   "source": [
    "# split into train and test sets\n",
    "X_train, X_test, y_train, y_test = train_test_split(X, y, test_size=0.001, random_state=1)\n",
    "# prepare input data\n",
    "X_train_enc, X_test_enc = prepare_inputs(X_train, X_test)\n",
    "# prepare output data\n",
    "y_train_enc, y_test_enc = prepare_targets(y_train, y_test)\n",
    "\n",
    "\n",
    "print('X_train_enc:',X_train_enc[:5])\n",
    "print('X_test_enc:',X_test_enc[:5])\n",
    "print('y_train_enc:',y_train_enc[:5])\n",
    "print('y_test_enc:',y_test_enc[:5])\n",
    "\n"
   ]
  },
  {
   "cell_type": "markdown",
   "metadata": {},
   "source": [
    "## Chi test feature selection"
   ]
  },
  {
   "cell_type": "code",
   "execution_count": 494,
   "metadata": {},
   "outputs": [
    {
     "name": "stdout",
     "output_type": "stream",
     "text": [
      "orderedScores: [120.25960078 114.59228813  52.96655306  45.34534154  42.03986057\n",
      "  37.63895421  28.8892318   22.42324683  18.74327471   6.68036747\n",
      "   5.87176948   5.5397287    3.53576703   3.52541693]\n",
      "orderedFeatures: ['Trained profession category' 'Employment situation'\n",
      " 'Nationality categories' 'Person category' 'In CH since birth'\n",
      " 'Personal household (support unit)' 'Highest completed education'\n",
      " 'Dossier type' 'Age categories' 'Degree of employment'\n",
      " 'last job category' 'Persons in household total' 'Marital status'\n",
      " 'Part-time reason']\n"
     ]
    }
   ],
   "source": [
    "#chi test feature selection\n",
    "def select_features_chi(X_train, y_train, X_test):\n",
    "\tfs = SelectKBest(score_func=chi2, k='all')\n",
    "\tfs.fit(X_train, y_train)\n",
    "\tX_train_fs = fs.transform(X_train)\n",
    "\tX_test_fs = fs.transform(X_test)\n",
    "\treturn X_train_fs, X_test_fs, fs\n",
    "\n",
    "X_train_fs, X_test_fs, fs = select_features_chi(X_train_enc, y_train_enc, X_test_enc)\n",
    "order = np.argsort(fs.scores_)[::-1]\n",
    "chi2OrderedScores = fs.scores_[np.array(order)]\n",
    "print('orderedScores:',chi2OrderedScores)\n",
    "chi2OrderedFeatures = np.array(X.columns)[np.array(order)]\n",
    "print('orderedFeatures:',chi2OrderedFeatures)"
   ]
  },
  {
   "cell_type": "code",
   "execution_count": 495,
   "metadata": {},
   "outputs": [
    {
     "name": "stdout",
     "output_type": "stream",
     "text": [
      "Feature [Trained profession category] 0: 120.259601\n",
      "Feature [Employment situation] 1: 114.592288\n",
      "Feature [Nationality categories] 2: 52.966553\n",
      "Feature [Person category] 3: 45.345342\n",
      "Feature [In CH since birth] 4: 42.039861\n",
      "Feature [Personal household (support unit)] 5: 37.638954\n",
      "Feature [Highest completed education] 6: 28.889232\n",
      "Feature [Dossier type] 7: 22.423247\n",
      "Feature [Age categories] 8: 18.743275\n",
      "Feature [Degree of employment] 9: 6.680367\n",
      "Feature [last job category] 10: 5.871769\n",
      "Feature [Persons in household total] 11: 5.539729\n",
      "Feature [Marital status] 12: 3.535767\n",
      "Feature [Part-time reason] 13: 3.525417\n"
     ]
    },
    {
     "data": {
      "image/png": "[encoded data removed]",
      "text/plain": [
       "<Figure size 432x288 with 1 Axes>"
      ]
     },
     "metadata": {
      "needs_background": "light"
     },
     "output_type": "display_data"
    }
   ],
   "source": [
    "# what are scores for the features\n",
    "for i in range(len(chi2OrderedScores)):\n",
    "\tprint('Feature [%s] %d: %f' % (chi2OrderedFeatures[i],i, chi2OrderedScores[i]))\n",
    "# plot the scores\n",
    "pyplot.xticks(np.arange(len(chi2OrderedScores)),chi2OrderedFeatures,rotation='vertical')\n",
    "pyplot.bar(chi2OrderedFeatures,chi2OrderedScores)\n",
    "pyplot.show()"
   ]
  },
  {
   "cell_type": "markdown",
   "metadata": {},
   "source": [
    "## Mutual Info Classic if"
   ]
  },
  {
   "cell_type": "code",
   "execution_count": 496,
   "metadata": {},
   "outputs": [
    {
     "name": "stdout",
     "output_type": "stream",
     "text": [
      "orderedScores: [0.03699897 0.02907851 0.01368445 0.01202143 0.01077318 0.00950103\n",
      " 0.0092456  0.00904609 0.00610366 0.00555712 0.00141027 0.\n",
      " 0.         0.        ]\n",
      "orderedFeatures: ['Employment situation' 'Highest completed education'\n",
      " 'Nationality categories' 'In CH since birth'\n",
      " 'Personal household (support unit)' 'Part-time reason'\n",
      " 'Trained profession category' 'Persons in household total'\n",
      " 'Person category' 'Age categories' 'last job category'\n",
      " 'Degree of employment' 'Marital status' 'Dossier type']\n",
      "Feature [Employment situation] 0: 0.036999\n",
      "Feature [Highest completed education] 1: 0.029079\n",
      "Feature [Nationality categories] 2: 0.013684\n",
      "Feature [In CH since birth] 3: 0.012021\n",
      "Feature [Personal household (support unit)] 4: 0.010773\n",
      "Feature [Part-time reason] 5: 0.009501\n",
      "Feature [Trained profession category] 6: 0.009246\n",
      "Feature [Persons in household total] 7: 0.009046\n",
      "Feature [Person category] 8: 0.006104\n",
      "Feature [Age categories] 9: 0.005557\n",
      "Feature [last job category] 10: 0.001410\n",
      "Feature [Degree of employment] 11: 0.000000\n",
      "Feature [Marital status] 12: 0.000000\n",
      "Feature [Dossier type] 13: 0.000000\n"
     ]
    },
    {
     "data": {
      "image/png": "[encoded data removed]",
      "text/plain": [
       "<Figure size 432x288 with 1 Axes>"
      ]
     },
     "metadata": {
      "needs_background": "light"
     },
     "output_type": "display_data"
    }
   ],
   "source": [
    "# feature selection\n",
    "def select_features_mutual_info(X_train, y_train, X_test):\n",
    "\tfs = SelectKBest(score_func=mutual_info_classif, k='all')\n",
    "\tfs.fit(X_train, y_train)\n",
    "\tX_train_fs = fs.transform(X_train)\n",
    "\tX_test_fs = fs.transform(X_test)\n",
    "\treturn X_train_fs, X_test_fs, fs\n",
    "\n",
    "X_train_fs, X_test_fs, fs = select_features_mutual_info(X_train_enc, y_train_enc, X_test_enc)\n",
    "#print(fs.scores_)\n",
    "\n",
    "order = np.argsort(fs.scores_)[::-1]\n",
    "mutualInfoOrderedScores = fs.scores_[np.array(order)]\n",
    "print('orderedScores:',mutualInfoOrderedScores)\n",
    "mutualInfoOrderedFeatures = np.array(X.columns)[np.array(order)]\n",
    "print('orderedFeatures:',mutualInfoOrderedFeatures)\n",
    "\n",
    "# what are scores for the features\n",
    "for i in range(len(mutualInfoOrderedScores)):\n",
    "\tprint('Feature [%s] %d: %f' % (mutualInfoOrderedFeatures[i],i, mutualInfoOrderedScores[i]))\n",
    "# plot the scores\n",
    "pyplot.xticks(np.arange(len(mutualInfoOrderedScores)),mutualInfoOrderedFeatures,rotation='vertical')\n",
    "pyplot.bar(mutualInfoOrderedFeatures,mutualInfoOrderedScores)\n",
    "pyplot.show()"
   ]
  },
  {
   "cell_type": "markdown",
   "metadata": {},
   "source": [
    "## ANOVA"
   ]
  },
  {
   "cell_type": "code",
   "execution_count": 497,
   "metadata": {},
   "outputs": [
    {
     "name": "stdout",
     "output_type": "stream",
     "text": [
      "orderedScores: [24.26047196 17.41555944 11.21210315  8.64018661  7.51521512  7.38021353\n",
      "  6.85156671  6.4884296   5.21849072  4.78479894  4.50662339  2.30658286\n",
      "  1.89819223  0.20454975]\n",
      "orderedFeatures: ['In CH since birth' 'Nationality categories' 'Employment situation'\n",
      " 'Age categories' 'Person category' 'Personal household (support unit)'\n",
      " 'Degree of employment' 'Dossier type' 'Trained profession category'\n",
      " 'Marital status' 'Highest completed education'\n",
      " 'Persons in household total' 'Part-time reason' 'last job category']\n",
      "Feature [In CH since birth] 0: 24.260472\n",
      "Feature [Nationality categories] 1: 17.415559\n",
      "Feature [Employment situation] 2: 11.212103\n",
      "Feature [Age categories] 3: 8.640187\n",
      "Feature [Person category] 4: 7.515215\n",
      "Feature [Personal household (support unit)] 5: 7.380214\n",
      "Feature [Degree of employment] 6: 6.851567\n",
      "Feature [Dossier type] 7: 6.488430\n",
      "Feature [Trained profession category] 8: 5.218491\n",
      "Feature [Marital status] 9: 4.784799\n",
      "Feature [Highest completed education] 10: 4.506623\n",
      "Feature [Persons in household total] 11: 2.306583\n",
      "Feature [Part-time reason] 12: 1.898192\n",
      "Feature [last job category] 13: 0.204550\n"
     ]
    },
    {
     "data": {
      "image/png": "[encoded data removed]",
      "text/plain": [
       "<Figure size 432x288 with 1 Axes>"
      ]
     },
     "metadata": {
      "needs_background": "light"
     },
     "output_type": "display_data"
    }
   ],
   "source": [
    "# feature selection\n",
    "def select_features_ANOVA(X_train, y_train, X_test):\n",
    "\tfs = SelectKBest(score_func=f_classif, k='all')\n",
    "\tfs.fit(X_train, y_train)\n",
    "\tX_train_fs = fs.transform(X_train)\n",
    "\tX_test_fs = fs.transform(X_test)\n",
    "\treturn X_train_fs, X_test_fs, fs\n",
    "\n",
    "X_train_fs, X_test_fs, fs = select_features_ANOVA(X_train_enc, y_train_enc, X_test_enc)\n",
    "#print(fs.scores_)\n",
    "\n",
    "order = np.argsort(fs.scores_)[::-1]\n",
    "AnovaOrderedScores = fs.scores_[np.array(order)]\n",
    "print('orderedScores:',AnovaOrderedScores)\n",
    "AnovaOrderedFeatures = np.array(X.columns)[np.array(order)]\n",
    "print('orderedFeatures:',AnovaOrderedFeatures)\n",
    "\n",
    "# what are scores for the features\n",
    "for i in range(len(AnovaOrderedScores)):\n",
    "\tprint('Feature [%s] %d: %f' % (AnovaOrderedFeatures[i],i, AnovaOrderedScores[i]))\n",
    "# plot the scores\n",
    "pyplot.xticks(np.arange(len(AnovaOrderedScores)),AnovaOrderedFeatures,rotation='vertical')\n",
    "pyplot.bar(AnovaOrderedFeatures,AnovaOrderedScores)\n",
    "pyplot.show()"
   ]
  },
  {
   "cell_type": "markdown",
   "metadata": {},
   "source": [
    "## Remove unsignificant features"
   ]
  },
  {
   "cell_type": "code",
   "execution_count": 498,
   "metadata": {},
   "outputs": [
    {
     "name": "stdout",
     "output_type": "stream",
     "text": [
      "Worst 6 in each measurements:\n",
      "     chi2: ['Age categories' 'Degree of employment' 'last job category'\n",
      " 'Persons in household total' 'Marital status' 'Part-time reason']\n",
      "     MutualInfo: ['Person category' 'Age categories' 'last job category'\n",
      " 'Degree of employment' 'Marital status' 'Dossier type']\n",
      "     ANOVA: ['Trained profession category' 'Marital status'\n",
      " 'Highest completed education' 'Persons in household total'\n",
      " 'Part-time reason' 'last job category']\n",
      "commonWorsts: ['last job category', 'Marital status']\n"
     ]
    }
   ],
   "source": [
    "nWorsts = 6\n",
    "print('Worst %i in each measurements:'%nWorsts)\n",
    "worstChi2 = chi2OrderedFeatures[len((chi2OrderedFeatures))-nWorsts:]\n",
    "worstMutualInfo = mutualInfoOrderedFeatures[len((mutualInfoOrderedFeatures))-nWorsts:]\n",
    "worstAnova = AnovaOrderedFeatures[len((AnovaOrderedFeatures))-nWorsts:]\n",
    "print('     chi2:',worstChi2)\n",
    "print('     MutualInfo:',worstMutualInfo)\n",
    "print('     ANOVA:',worstAnova)\n",
    "\n",
    "commonWorsts = list(set(worstChi2) & set(worstMutualInfo) & set(worstAnova))\n",
    "print('commonWorsts:',commonWorsts)\n"
   ]
  },
  {
   "cell_type": "markdown",
   "metadata": {},
   "source": [
    "# Different profiles "
   ]
  },
  {
   "cell_type": "markdown",
   "metadata": {},
   "source": [
    "## Kmodes: Clustering to find the differents profiles"
   ]
  },
  {
   "cell_type": "code",
   "execution_count": 521,
   "metadata": {},
   "outputs": [],
   "source": [
    "from kmodes.kmodes import KModes\n",
    "\n",
    "\n",
    "def saveClusterToCsv(nbClusters):\n",
    "    # random categorical data\n",
    "    subsetColumns = dataNaN.drop(columns={'target','id','Product of last dossier version'},axis=1)\n",
    "    dataXnan = subsetColumns.values\n",
    "\n",
    "    km = KModes(n_clusters=nbClusters, init='Huang', n_init=5, verbose=0)\n",
    "\n",
    "    fitclusters = km.fit_predict(dataXnan)\n",
    "\n",
    "    clusterCentroid = pd.DataFrame(km.cluster_centroids_)\n",
    "    clusterCentroid.columns = subsetColumns.columns\n",
    "    clusterCentroid.to_csv(\"clusterCentroid\"+str(nbClusters)+\".csv\") \n",
    "\n",
    "    return clusterCentroid\n",
    "\n"
   ]
  },
  {
   "cell_type": "code",
   "execution_count": 526,
   "metadata": {},
   "outputs": [],
   "source": [
    "clustersCentroids3 = saveClusterToCsv(3)"
   ]
  },
  {
   "cell_type": "code",
   "execution_count": 524,
   "metadata": {},
   "outputs": [],
   "source": [
    "clustersCentroids5 = saveClusterToCsv(3)"
   ]
  },
  {
   "cell_type": "code",
   "execution_count": 527,
   "metadata": {},
   "outputs": [],
   "source": [
    "clustersCentroids7 = saveClusterToCsv(7)"
   ]
  },
  {
   "cell_type": "code",
   "execution_count": 528,
   "metadata": {},
   "outputs": [],
   "source": [
    "clustersCentroids10 = saveClusterToCsv(10)"
   ]
  },
  {
   "cell_type": "markdown",
   "metadata": {},
   "source": [
    "## Predict for each profile"
   ]
  }
 ],
 "metadata": {
  "interpreter": {
   "hash": "31f2aee4e71d21fbe5cf8b01ff0e069b9275f58929596ceb00d14d90e3e16cd6"
  },
  "kernelspec": {
   "display_name": "Python 3.8.10 64-bit",
   "language": "python",
   "name": "python3"
  },
  "language_info": {
   "codemirror_mode": {
    "name": "ipython",
    "version": 3
   },
   "file_extension": ".py",
   "mimetype": "text/x-python",
   "name": "python",
   "nbconvert_exporter": "python",
   "pygments_lexer": "ipython3",
   "version": "3.8.10"
  },
  "orig_nbformat": 4
 },
 "nbformat": 4,
 "nbformat_minor": 2
}
